{
 "cells": [
  {
   "cell_type": "markdown",
   "id": "ffb608e4",
   "metadata": {},
   "source": [
    "### Exporting from Transkribus\n",
    "When exporting from Transkribus it is at this moment important that you export TEI XML as Client Export, with zones for text regions and lines, inclusive line breaks < l >...< /l >, and only 'structure' as predefined tags."
   ]
  },
  {
   "cell_type": "markdown",
   "id": "45de9c97",
   "metadata": {},
   "source": [
    "### Initializing file"
   ]
  },
  {
   "cell_type": "code",
   "execution_count": null,
   "id": "76dcedd9",
   "metadata": {},
   "outputs": [],
   "source": [
    "import xml.etree.ElementTree as ET"
   ]
  },
  {
   "cell_type": "code",
   "execution_count": 60,
   "id": "a0a32814",
   "metadata": {},
   "outputs": [],
   "source": [
    "#Choose file to convert\n",
    "file = 'brochmand_sommer.xml'"
   ]
  },
  {
   "cell_type": "code",
   "execution_count": 61,
   "id": "f67affa4",
   "metadata": {},
   "outputs": [],
   "source": [
    "#Initialize file as root\n",
    "tree = ET.parse(file)\n",
    "root = tree.getroot()"
   ]
  },
  {
   "cell_type": "markdown",
   "id": "7e1d1e16",
   "metadata": {},
   "source": [
    "### Structure of TEI XML export from Transkribus\n",
    "The structure of TEI files exported from Transkribus is based on an initial header followed by a description of every facsimile page in Transkribus with zones for text regions, lines, and words - depending on export settings, and finally the text. Text contains a single < body > element where < pb > marks facsimile changes, < p > marks text regions, and < lg > groups the lines < l >. Every < p > and < l > contains a 'facs' attribute which links back to the description of zones in the facsimile elements."
   ]
  },
  {
   "cell_type": "markdown",
   "id": "4d270c23",
   "metadata": {},
   "source": [
    "The below example uses subtype='paragraph' as a case. For additional elements add appropriate lists and iterate using elif. Remember that you will need to go down an extra level when iterating over lines instead of text regions."
   ]
  },
  {
   "cell_type": "code",
   "execution_count": 65,
   "id": "14612ce8",
   "metadata": {},
   "outputs": [],
   "source": [
    "#Creates a list with xml:id for zones with the desired attribute.\n",
    "list_paragraph = []\n",
    "for facsimile in root[1:len(root)-1]: #Excludes the header and text element\n",
    "    for surface in facsimile:\n",
    "        for zone in surface:\n",
    "            if zone.get('subtype') == 'paragraph':\n",
    "                list_paragraph.append(zone.get('{http://www.w3.org/XML/1998/namespace}id')) #Note the use of default namespace instead of xml:id"
   ]
  },
  {
   "cell_type": "code",
   "execution_count": 63,
   "id": "b39e4463",
   "metadata": {},
   "outputs": [],
   "source": [
    "#Generate a string containing the desired element.\n",
    "text = ''\n",
    "for element in root[-1][0]:\n",
    "    if element.get('facs')[1:] in list_paragraph: #Identify <p> elements with desired subtybe\n",
    "        for line in element[0]: #Iterates over <lg> element (which contains the lines) instead of <p>\n",
    "            if line.text != None: #Contingency for cases of empty lines in paragraph text regions\n",
    "                text += zone.text+'\\n' #Since the <l> element assumes a linebreak, you might want to add a linebreak when saving to file"
   ]
  },
  {
   "cell_type": "markdown",
   "id": "63338304",
   "metadata": {},
   "source": [
    "### Save as file"
   ]
  },
  {
   "cell_type": "code",
   "execution_count": 64,
   "id": "3cadf697",
   "metadata": {},
   "outputs": [],
   "source": [
    "with open(file[:-4]+'.txt','w',encoding='utf-8') as f:\n",
    "    for line in text:\n",
    "        f.write(line)"
   ]
  }
 ],
 "metadata": {
  "kernelspec": {
   "display_name": "Python 3 (ipykernel)",
   "language": "python",
   "name": "python3"
  },
  "language_info": {
   "codemirror_mode": {
    "name": "ipython",
    "version": 3
   },
   "file_extension": ".py",
   "mimetype": "text/x-python",
   "name": "python",
   "nbconvert_exporter": "python",
   "pygments_lexer": "ipython3",
   "version": "3.9.12"
  }
 },
 "nbformat": 4,
 "nbformat_minor": 5
}
