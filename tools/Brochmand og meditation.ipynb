{
 "cells": [
  {
   "cell_type": "code",
   "execution_count": 1,
   "id": "3b76382d",
   "metadata": {},
   "outputs": [],
   "source": [
    "# Requirements\n",
    "import re\n",
    "import os\n",
    "import nltk\n",
    "from nltk.collocations import BigramCollocationFinder\n",
    "from nltk.metrics import BigramAssocMeasures"
   ]
  },
  {
   "cell_type": "code",
   "execution_count": 2,
   "id": "517c360d",
   "metadata": {},
   "outputs": [],
   "source": [
    "file1 = \"data/brochmand_sabbati_sanctificatio_sommer.txt\"\n",
    "file2 = \"data/brochmand_sabbati_sanctificatio_vinter.txt\""
   ]
  },
  {
   "cell_type": "code",
   "execution_count": 3,
   "id": "a6081362",
   "metadata": {},
   "outputs": [],
   "source": [
    "corpus = \"\"\n",
    "with open(file1,'r',encoding='utf-8') as file:\n",
    "    corpus += file.read()\n",
    "with open(file2,'r',encoding='utf-8') as file:\n",
    "    corpus += file.read()"
   ]
  },
  {
   "cell_type": "code",
   "execution_count": 4,
   "id": "1fa9a645",
   "metadata": {},
   "outputs": [],
   "source": [
    "corpus_clean = corpus\n",
    "corpus_clean = re.sub('=\\n','',corpus_clean)\n",
    "corpus_clean = re.sub('\\n',' ',corpus_clean)\n",
    "corpus_clean = re.sub('[!\"#$%&\\'()*+,-./:;<=>?@[\\\\]^_`{|}~]','',corpus_clean)\n",
    "corpus_clean = corpus_clean.lower()\n",
    "corpus_clean = re.sub(' +',' ',corpus_clean)"
   ]
  },
  {
   "cell_type": "code",
   "execution_count": 5,
   "id": "b4b94b46",
   "metadata": {},
   "outputs": [],
   "source": [
    "with open(\"stopwords/stopwords.txt\",'r',encoding='utf-8') as file:\n",
    "    stopwords = file.read().split()"
   ]
  },
  {
   "cell_type": "code",
   "execution_count": 6,
   "id": "3730ccdd",
   "metadata": {},
   "outputs": [],
   "source": [
    "corpus_nostops = []\n",
    "for word in corpus_clean.split():\n",
    "    if word not in stopwords:\n",
    "        corpus_nostops.append(word)"
   ]
  },
  {
   "cell_type": "code",
   "execution_count": 7,
   "id": "499e3c5a",
   "metadata": {},
   "outputs": [],
   "source": [
    "corpus_nostops_freq = nltk.FreqDist(corpus_nostops)"
   ]
  },
  {
   "cell_type": "code",
   "execution_count": 8,
   "id": "e6c3def7",
   "metadata": {},
   "outputs": [],
   "source": [
    "corpus_freq = nltk.FreqDist(corpus_clean.split())"
   ]
  },
  {
   "cell_type": "code",
   "execution_count": 9,
   "id": "1936300d",
   "metadata": {},
   "outputs": [],
   "source": [
    "corpus_nltk = nltk.Text(corpus_clean.split())"
   ]
  },
  {
   "cell_type": "code",
   "execution_count": 10,
   "id": "040522ae",
   "metadata": {},
   "outputs": [
    {
     "name": "stdout",
     "output_type": "stream",
     "text": [
      "betracte 47\n",
      "betractendis 1\n",
      "betractning 3\n",
      "betract 2\n",
      "betractende 2\n",
      "betractis 3\n",
      "betracter 48\n"
     ]
    }
   ],
   "source": [
    "lst = []\n",
    "for word in corpus_clean.split():\n",
    "    if word.startswith('betract'):\n",
    "        lst.append(word)\n",
    "for word in list(set(lst)):\n",
    "    print(word, corpus_nltk.count(word))"
   ]
  },
  {
   "cell_type": "code",
   "execution_count": 11,
   "id": "1a4afc40",
   "metadata": {
    "collapsed": true
   },
   "outputs": [
    {
     "name": "stdout",
     "output_type": "stream",
     "text": [
      "Displaying 25 of 47 matches:\n",
      " bør søge retteligen salighed hand betracte det som guds aand lærer er galater\n",
      "de gud at mand skulde betey cke oc betracte at jesus icke lerd for sine synder\n",
      "de samvittighed skulle betencke oc betracte disse hans ord herrens aand er off\n",
      "at de skulle betencke oc gudeligen betracte huad for store oc stercke fiender \n",
      " hand beder at huert guds barn vil betracte oc betencke sin stand oc vilkor he\n",
      "b der hand begynder at betencke oc betracte huor adskillige bedrøffuelser der \n",
      "s barns hierte da hand betencke oc betracte det som jesus her sijger skulle gr\n",
      "et du est igienfød at høre læse oc betracte thi saa siger s povel til timotheu\n",
      "j guds børn med tilbørlig flijd at betracte huadd t er at bede udi jesu naffn \n",
      "c fornemmeligen skulle betæncke oc betracte huorledis jesus haffuer i gien ved\n",
      " at vijde det ville vi os til gode betracte at skaffnet theophilus liuder saa \n",
      "all aans delig fund at belancke oc betracte tiden paa huilcken vi leffue sigen\n",
      "lle i som læ se bruge oc gudeligen betracte det hellige evangelium om jesu chr\n",
      "lader os met tacknemmelige hierter betracte det jesus siger til disciplene der\n",
      "kulle met største ydmya forundring betracte baadt guds vijszdom oc godhed i de\n",
      "kostelig linklæde hand betæncke oc betracte huorfor at klæder ere indkomne udi\n",
      "en betæncke oc udi aand oc sandhed betracte at je us christus hand os udi skri\n",
      "talede huo skulle icke spaa her af betracte huer voris modstanderis diefuelens\n",
      "il intet bliffue jeg vil inderlige betracte oc betencke at creaturet skal blif\n",
      "d dette biuder herren guds børn at betracte hos esaiom sigende opløffter eders\n",
      " gvds barn begynder at betæncke oc betracte at himmel oc jord oc huad der udi \n",
      "s ger hand skal med tilbørlig fljd betracte oc betencke det jesus hand siger u\n",
      " da er her endnu et andet gaffn at betracte som du haffuer aff jesu christi be\n",
      "et som leffuer med velbehagelighed betracte huer s povels ord alle gvds creatu\n",
      "t sine gafuer om de ere store huer betracte til huad ende guds aand lader sine\n",
      "Displaying 1 of 1 matches:\n",
      "kulle være tuctige oc skickelige betractendis det som christus din frelsere si\n",
      "Displaying 3 of 3 matches:\n",
      "altid er udi guds ords læsning oc betractning salig er den mand som haffuer lys\n",
      "naar jesus ved ordsens hørelse oc betractning saa høyt elskis oc actis at hiert\n",
      "der giorde der aff idet ydmygheds betractning falder for jesu knæ oc siger til \n",
      "Displaying 2 of 2 matches:\n",
      "aff jøderne at guds ord vaar dennem betract huor kommer det da at nitodemus en \n",
      "kandst naae kienodiet da betenck oc betract med gudelig flijd apostelens ord hu\n",
      "Displaying 2 of 2 matches:\n",
      "s med det hellige apostoliske ord betractende huad straff dennem offuerhenger s\n",
      "delige begieringer betenckende oc betractende at j ere fremmede oc vdlendige me\n",
      "Displaying 3 of 3 matches:\n",
      "dette ord som med saadan fiud skal betractis oc betenckis det er den fuldkomne \n",
      "actsomhed oc flijd at betænckis oc betractis det eene er vor herris jesu christ\n",
      "ngelio huilcket naar det gudeligen betractis oc betænckis da bekommer mand den \n",
      "Displaying 25 of 48 matches:\n",
      "g tale om jes opstandelse at du is betracter oc gudelig betæncker herrens ord h\n",
      "m udi der spnagoger huer sabbapdag betracter her at det er it nock til salighed\n",
      " herligheds aabenbarelze huo dette betracter med tilbørlig andact oc gudelighed\n",
      "ro oc tillid dagligen betencket oc betracter heretteligen beskuer christi jesu \n",
      " er vender eders øyen til mosen oc betracter huorledis hand ved troen haffuer o\n",
      "d allerstørste ydmyghed tencker oc betracter at dette blod vaar guds søns eget \n",
      "il gud ideligen om den hellig aand betracter at j icke kunde eders embede rette\n",
      "dette huo der udi hu oc hierte ret betracter hand betencker tilberligen huad de\n",
      "em med tilbørlig fljd betencker oc betracter huad siunis eder monne her icke fi\n",
      "n for den gode hyrde at leyesuenne betracter gudeligen huad for advarsel eders \n",
      "s er siddinde hos guds høyre haand betracter de ting som ere offuen til oc icke\n",
      "gist paa legem oc siel evindeligen betracter eders frelseris jesv christi suar \n",
      "ue baade legem oc siælen i helfuee betracter den store nytte oc gafn guds fryct\n",
      "s er siddende hos guds høyre haand betracter de ting som ere offuen til icke de\n",
      "iddende hos gvd faders høyre haand betracter de ting som ere offuen til icke de\n",
      "ende effterfølger s povel sigendis betracter de ting som ere offuen til oc icke\n",
      "a de døde opstanden huo dette icke betracter huo hereffter sig icke forholder h\n",
      "met tulbørlig i hiertens bevegelse betracter huorledis gvds vrede saaledis haff\n",
      "nu for den forfærdeliget vantro oc betracter huilcken en gruelig synd det er ic\n",
      " tilforn oc det skal betalis igien betracter oc betæncker j menniske som icke v\n",
      "d streng oc umild det betæncker oc betracter david sigende udi psalmen salig er\n",
      " saare flittig til gode gierninger betracter oc betencker huorfor gud hafuer ve\n",
      "olde med som dette at nd gudeligen betracter oc betencker at hand icke skal fue\n",
      "cke der talis om mishaet med flijd betracter huad her oc andre k teder tilleagi\n",
      "n sundhed oc helbred igie saaledis betracter den gvds mand moses sot siugdom oc\n"
     ]
    }
   ],
   "source": [
    "for word in set(lst):\n",
    "    corpus_nltk.concordance(word)"
   ]
  },
  {
   "cell_type": "code",
   "execution_count": 12,
   "id": "fdad6e42",
   "metadata": {
    "scrolled": true
   },
   "outputs": [
    {
     "name": "stdout",
     "output_type": "stream",
     "text": [
      "Displaying 50 of 97 matches:\n",
      "me oc haffuer ingen lyst til blod aff øren sam oc bucke min siæl hadede eders ny maaneder eders beslempte høylider jeg e\n",
      "o saaledis skreffuet om jesu udi psalmen du lelder icke min siæl bliffue i helffuede oc ey heller tilsteden at din helli\n",
      "vil jeg selff derfore raffe mig oc sijge veedst du icke min siæl at guds helge naade er aabenbaret for dig at du skalt f\n",
      "gud oc fra min herre jesu christo da vil jeg sige tænck min siæl paa den herlighed der skal aabenbaris udi dig kunde du \n",
      " derhos men jeg kallede paa herrens naffn o herre frels min siæl herren er naadig oc barmhierlig herien bevarer de enfol\n",
      "e enfoldige naar jeg er undertryckt da hielper hand mig min siæl vær nu tilfreds igien thi herren giør vel mod dig thi d\n",
      "ilfreds igien thi herren giør vel mod dig thi du ryckte min siæl fra døden mit øye fra graad min fod fra skrud jeg vil v\n",
      "enere som jeg haffuer udvald min elskelige til huilcken min siæl haffuer behagelighed jeg vil sætte min aand paa hannem \n",
      "skal oc mit kiød huile i haab thi du skalt icke forlade min siæl i helffuede jcke heller tilstæde din hellige at see for\n",
      "al fuldkommis som dig er sagt aff herren oc maria sagde min siæl ophøyer herren oc min aand glæder sig udi gud min frels\n",
      "evist saaledis taler der om evangelisten oc maria sagde min siæl ophøyer herren oc min aand glæder sig i gud min frelser\n",
      " siugdom herre siger hand du haffuer kierligen annammit min siæl fra fordærffuelsens graff thi du kaste mine synder bag \n",
      "ig oc evig gode sige huer aff inderste hierle med maria min siæl ophøyer herren oc min aand glæder sig i gvd min frelser\n",
      "phøyer herren oc min aand glæder sig i gvd min frelsere min siæl tenck du der paa fornemneligen oc detfor aff gandske fo\n",
      "dner hand selff sigendis græd jeg icke i den haarde tid min siæl ynckedis offuer den arme huor giorde det jesu ont der h\n",
      "ngribis siger hand icke væmodelig vendt dig herre redde min siæl hielp mig for din barmhierligheds skyld thi mand tencke\n",
      "l jorden oc maa sige med david mine been ere forførdede min siæl er meget forfærdet jeg er træt aff suck min skickelse e\n",
      "t viste david saa saare vel oc erfor siger til sin siæl min siæl loffue herren oc huad i mig er hans hellige naffn min s\n",
      " siæl loffue herren oc huad i mig er hans hellige naffn min siæl lofue herren oc glem icke det gode som hand haffuer gio\n",
      "a skee dem aff herren som ere imod mig oc tale ont imod min siæl slunge icke saa de hellige i aabenbaringen saligheden o\n",
      " alle mennisker baade leffuende oc døde huad siunis dig min siæl monne det nu være tid at opstaa aff søffne monne det ic\n",
      "ns søn kommer huad vilt du nu være døffnactig oc søffne min siæl giff act paa dend tid udi huilcken du leffuer du haffue\n",
      "ger er en død tro oc icke en leffuende tro at du derfor min siæl kand sigis at være opstanden aff søffne oc haffue dend \n",
      "e en tom oc udslucket men en brendende lampe da giør du min siæl som din frelsere christus raader sigendis lader eders l\n",
      "nger oc prise eders fader som er i himmelen giør du det min siæl da hafuer du ret i act guds aands befalning som saaledi\n",
      "ige icke om de wvise men som de vise der til bevege dig min siæl at din salighed er dig nermere end der du troede de løf\n",
      "pred offuer all verden nu staar intet tilbage end at du min siæl huer dag venter din salighed oc troer at den nu er nærm\n",
      "som bode i dødsens skugges dall glæd dig udi dette lius min siæl oc vandre effter det tenck paa det rette lius den herre\n",
      "ig giør regenskab for din huusholdning da siger jeg til min siæl vær trøstig min siæl see her er din konge som kommer di\n",
      " din huusholdning da siger jeg til min siæl vær trøstig min siæl see her er din konge som kommer dig sactmodig est du en\n",
      "æder ja end all verden dersom jeg skulle lide skade paa min siæl oc hui skulle jeg være wvillig til at tiene christo med\n",
      "c barmhiertig gud oc fortryder det onde oc nu herre tag min siæl fra mig thi jeg vil heller være død end leffue haffue s\n",
      "di glæde mig jeg vil sige oc siunge med david i psalmen min siæl loffue herren oc huad i mig er hans hellige naffn min s\n",
      " siæl loffue herren oc huad i mig er hans hellige naffn min siæl loffue herren oc forglem icke det gode som hand hafuer \n",
      " vil loffue herren hans loff skal altid være i min mund min siæl skal rose sig i herren at de ælendige skulle høre det o\n",
      " grøn eng oc leder mig til ferske vand hand vederqueger min siæl hand leder mig paa ret vey for sit naffns skyld oc om j\n",
      " formanelse med tacksigelse for gud vær icke mistrøstig min siæl om der handlis wmildelig med dig fortryd icke om dig en\n",
      "elig helbrede mig herre thi mine been ere forferdede oc min siæl er meget forferdet ab du herre huor lenge jeg er saa tr\n",
      "g haffuer loffuet dig at jeg vi tacke da thi du frelste min siæl fra døden min fødder fra fald at jeg maae vandre for gv\n",
      " forbandet er huer den som henger paa kaarsens træ naar min siæl vil sige til mig du est diefuelens tienere oc træl thi \n",
      "jesum der hand siunger i psalmen jeg bier effter herren min siæl bier oc jeg haabis til hans ord min siæl vocter effter \n",
      " effter herren min siæl bier oc jeg haabis til hans ord min siæl vocter effter herren fra en morgens vact til en anden j\n",
      "uad esaias siger jeg vil glæde mig hierteligen i herren min siæl skal fryde sig i min gud thi hand førde wie i saligheds\n",
      " med ald billighed sige oc siunge med david udi psalmen min siæl loffue herren oc mad som i mig er hans hellige naffn mi\n",
      "æl loffue herren oc mad som i mig er hans hellige naffn min siæl goffue herren oc forglem icke det gode som and haffuer \n",
      "u i gode guds børn maa icke huer aff eder billigen sige min siæl loffue herren oc huad som i mig er hans hellige naffn m\n",
      "l loffue herren oc huad som i mig er hans hellige naffn min siæl loffue herren oc forglem icke det gode hand haffuer gio\n",
      "eder icke aarsag til at loffue herren med david oc sige min siæl loffue herren oc huad som i mig er hans hellige naffn m\n",
      "l loffue herren oc huad som i mig er hans hellige naffn min siæl loffue herren oc forglem icke det gode som hand haffuer\n",
      "elig helbrede mig herre thi mine been ere forfærdede oc min siæl er meget forfærdet ah du herre huor lenge vendt dig her\n"
     ]
    }
   ],
   "source": [
    "corpus_nltk.concordance(['min','siæl'],120,50)"
   ]
  },
  {
   "cell_type": "code",
   "execution_count": 27,
   "id": "271a50f4",
   "metadata": {
    "scrolled": true
   },
   "outputs": [
    {
     "name": "stdout",
     "output_type": "stream",
     "text": [
      "i det de haffuer mist \u001b[1mjesu\u001b[0m \u001b[1mlærdom\u001b[0m oc huad gode oc glæde vi hedninge haffue bekommet i det vi ere udi deris sted antagne til det hellige evangelij kundskab da giffuer act paa huad apostelen eder her om merceng lærer hand siger at jesu prædicken som jøderne foractede den haffde gud send til dem huad siums eder monne gud haffue \n",
      "\n",
      "icke bliffue hijesum oc hos \u001b[1mjesu\u001b[0m \u001b[1mlærdom\u001b[0m giffuer act paa huordi jesus hand er oc der aff tager aarsage ubevegeligen henge ved jesum saa siger guds aand i voris afflectie om jesu hand drog omkring oc giorvel oc helbredede alle som vaare offu faldne aff dieffuelen thi gud vaar iu hannem huad kand være os som tro paa jesum steligere \n",
      "\n",
      "tage det aff den herris \u001b[1mjesu\u001b[0m \u001b[1mlærdom\u001b[0m oc forkynde dig prøff du derfore huer aand ved jesu hellige lærdom oc slut denne lærdom som jeg finder angiffuen aff jesu vil jeg bliffue ved ved den vil jeg leffue ved den vil jeg dø thi der aff veed jeg at det er den hellig aands lærdom fordi den er tagen altsammen \n",
      "\n",
      "der paa arbeydede huor ledis \u001b[1mjesu\u001b[0m \u001b[1mlærdom\u001b[0m kunde gandske udryddis oc med rodopryckis saa er dog jesus saa god at hand vil at hands apostle effter hans himmelfart skulle her fortøffue her begynde deris prædicken om jesu her først predicke se ligheds vey til it vidnysbyrd sant at være som skreffnet staar gud vill at alle menniske skulle bliffue salige \n",
      "\n",
      "verden sette sig op imod \u001b[1mjesu\u001b[0m \u001b[1mlærdom\u001b[0m det hielper intet den helsig aands vidnisbyrd gaar dette altsammen offuer see mig til den gode simeonem huor den hellig aand vidner som jesu der hand faar hannem paa sine arme siger hand icke oc siunger met glæde opfylt aff den hellig aand herre lad nu din tienere fare i fred ihi mine \n",
      "\n",
      "dem hen i fengsel der \u001b[1mjesu\u001b[0m \u001b[1mlærdom\u001b[0m icke maa haffue rom udi jerusalem saa mager gvd det saa at samaria annammer den salige lærdom om jesu christo thi guds aand formelder at der philippus prædickede for dem i samaria christum da gaffue de samdretteligen act paa de ting som sagdis aff philippo i det de hørde oc saa de tegn \n",
      "\n",
      "saadan kierlighed til jesum oc \u001b[1mjesu\u001b[0m \u001b[1mlærdom\u001b[0m at der hendis søster martha tager husens gierninger vare da setter hun sig ned hos jesu føder oc hører hans prædicken oc der udoffuer faar aff jesu denne høye berømmelse maria haffuer udvald den gode part som icke skal tagls fra hende huo vil nu necte at jesus her anstiller sig som den \n",
      "\n",
      "hans udi aabenbaringen den herris \u001b[1mjesu\u001b[0m \u001b[1mlærdom\u001b[0m med disse ord der gick it tuteget suerd aff hans mund truer icke den herre jesus selff saaledis menighedens engel udi pergams omvende dig men skeer det icke da kommer jeg snart til dig oc vil stride imod dem med min munds suerd oc huo vil benecte at jesu lærdom jo haffuer været \n",
      "\n",
      "oc huo vil benecte at \u001b[1mjesu\u001b[0m \u001b[1mlærdom\u001b[0m jo haffuer været som it skarpt suerd enten hand truede de vgudelige oc haarnackede eller oc hand trøstede de bange oc bedrøffuede oc bodfærdige der jesus hand oplæszde disse ord aff propheten esaia i synagogen herrens aand er offuer mig derfor salsuede hand mig hand sende mig at kundgiøre evangelisum for de fattige \n",
      "\n",
      "legge sig effter at dempe \u001b[1mjesu\u001b[0m \u001b[1mlærdom\u001b[0m da setter jesus imod all saadan baade forargelse oc hinder guds haands mact ved huilcken jesus skulde udi all modstand saaledis beteckis at ingen enten tredskhed eller mact skulle kunde skade jesum det giffuer jesus tilkiende hos voris prophete med disse ord hand haffuer skiulmig met sin haands skygge staar der icke at \n",
      "\n",
      "som holde eder hierteligen ti \u001b[1mjesu\u001b[0m \u001b[1mlærdom\u001b[0m oc paa den i liff oc død eder forlade j skulle finde udi hu oc hierte sant at være det som davld siger oc siunger i psalmen den som sidder under den høyestis beskiermelse oc bliffuer under den aldmectigstis skygge hand siger til herren min tillijd oc mit slot min gud paa den \n",
      "\n",
      "oploed os kkriffterne er icke \u001b[1mjesu\u001b[0m \u001b[1mlærdom\u001b[0m som en skarp oc reen piil der saaledis trrcker oc trenger sig igiennem phariteernis tieneris siæle at de sige der haffuer aldrig nøget menniske taled som dedes menniske huilcken en eeen pijl er jesu tule udi s povels hierte der hand paa veyen siger til hannem saul saul hui forfølger vu mig saaris \n",
      "\n",
      "huor lidet bleffue de aff \u001b[1mjesu\u001b[0m \u001b[1mlærdom\u001b[0m forbedrede derjesus predickede i nazareth om guds naade som ved hannem skulde bevilsis staar der icke at alle desom vaare i synagogen bleffue vrede oc stode op oc støtte hannen ud aff sladen oc førde hannem paa det høyøste aff bierget paa huilcked deris stad vaar bygd at styrte hannem med holde icke \n",
      "\n",
      "hannem med holde icke phariseerne \u001b[1mjesu\u001b[0m \u001b[1mlærdom\u001b[0m saa ringe oc saa foractelig at de sige monne der nogen aff de øffuerste haffue troed paa hannem eller aff phariseerne men dette folck som icke kiende lowen de ere forbandede ere jøderne icke saa wforskammede at de taar understaa sig at sige om jesu hand driffuer dieffle ud ved den ypperste dieffuet \n",
      "\n",
      "at ingen skulle tencke at \u001b[1mjesu\u001b[0m \u001b[1mlærdom\u001b[0m vaar billigen forskiøt da setter propheten hos at jesu sag er herrens sag oc jesu embede er hans guds embede haffde jo gud ladet sige ved mosen om den herre jesu oc hans embede herren eders gud skal opvecke eder en prophete aff eders brødre som mig den skulle j høre effter alt \n",
      "\n",
      "hiertens glæde annamme den herris \u001b[1mjesu\u001b[0m \u001b[1mlærdom\u001b[0m effterfølgendis apoftfs ene til huilcke der jesus sagde monne j oc ville gaa bort fra mig da suarer peder paa allis deris vegne here huem skulle vi gaa hen til du hafuer det evige liff ord oc vi haffue troed oc forstaaad det at du est christus den leffuende guds søn paa det \n",
      "\n",
      "haffuer icke roset mig aff \u001b[1mjesu\u001b[0m \u001b[1mlærdom\u001b[0m blod eller fortieniste oc dog haffuer jeg leffuit effter lowen udvortis wstraffelig skal jeg da udluckis aff himmerige oc fra guds ansict forskiudis evindeligen er det da billigt at denne skal indkomme udi det evige liff som haffuer kiendt christi lærdom som hafuer annammit christum for sin frelsere som haffuer loffuet at hand \n",
      "\n",
      "præster til den blinde der \u001b[1mjesu\u001b[0m \u001b[1mlærdom\u001b[0m aff hannem kosis oc berømmis du est hans diselpel men vi ere mosis disciple vi vide at gvd haffuer talet med mose men denne vide vi icke huordan hand er saa ere da disse faare klæder med huilcke de sig skiule disse falske propheter at de forvende oc angiffue at de ere udsende \n",
      "\n",
      "hans hellige lærdom monne derfor \u001b[1mjesu\u001b[0m \u001b[1mlærdom\u001b[0m bliffue ude jesus haffuer engang sagt helffuedis porte skulle icke formaa sig mod denne lærdom der paa haffue vi her klart vidnesbyrd der christus hand opstaar fra de døde oc ingen tæncker eller troer at jer skildt være nogen som vilde kiende sig til jesu lærdom see da ere her endnu fom hundrede \n",
      "\n",
      "som vilde kiende sig til \u001b[1mjesu\u001b[0m \u001b[1mlærdom\u001b[0m see da ere her endnu fom hundrede brødre oc sande jesu christi disciple for huilcke chaskue sig uadenbarer oc bøyiser sig at værr opstarden huad siunis eder mønne christi lærdom ved forfølgelse kunde undertrædis ere her jo flere christi tilhengere effter døden end for døden sea heder det da aff psalmen naar menniskene \n",
      "\n",
      "de forholt sig tuert imod \u001b[1mjesu\u001b[0m \u001b[1mlærdom\u001b[0m monne jesus ville kiende saadanne paa den dag for sine saa skal jesus suare dennem jeg kiende eder aldrig viger alle fra mig som giøre syndmonne der icke udi s povels tid hafue været de som vilde baade tiene gud oc synden huilcke s povel paa det iffuerligste straffer sigendis huad deelactighed hafuer \n",
      "\n",
      "j som bade den sande \u001b[1mjesu\u001b[0m \u001b[1mlærdom\u001b[0m see j ere diefuelens oc den gamle hugorms engle siger icke christus til jøderne j ere aff faderen dieffuelen oc j ville giøre eders faders begæringer hand vaar en mordere aff begyndelse oc bleff icke bestandig i sandhed thi sandhed er icke i hannem siger icke s hans hu som giør synden hand \n",
      "\n",
      "lætte sig imod jesum oc \u001b[1mjesu\u001b[0m \u001b[1mlærdom\u001b[0m det vaar lo en offuerste for spnagogen som sagde til jesum der hand helbredede om sabbathen der ere joser dage om vgen paa huilcke mand ber at helbrede kommer derfor paa de samme oc lader eder helbrede oc icke om sabbathen sige icke de ofuerste for synagogen om jess monne der nogen aff \n",
      "\n",
      "huo der kiendi sig til \u001b[1mjesu\u001b[0m \u001b[1mlærdom\u001b[0m de skulde som et bands menniske ære udtluckt aff synagogen oc forsamlingen men see uor underligen gud kand alting forandre hand veed i omvende sine flenders hierter maa icke nu denne hfuerste søge til jesum oc falde ted for hannem luis som ocsaa haffuer denne historle beskreffuen beretter i hand haffde ickun en \n",
      "\n",
      "dræbte dennem som bekiendte til \u001b[1mjesu\u001b[0m \u001b[1mlærdom\u001b[0m monne saadant bleffuet ustraffet der kom igies ofuer jederne effter christi spaar om tadan bedrøffuelse som der icke haffuer deret offuer jeterne fra verdens begynde hid indtil oc som icke skal bliffue vel hafi jøderne offte værit baardeligen plaget nu udi ægypen nu udi babylon nu udi andre stæder men de ere og \n",
      "\n",
      "maria den wtuctige quinde ved \u001b[1mjesu\u001b[0m \u001b[1mlærdom\u001b[0m at hun affstaar all wtuct leffuer siden it tuctigt lefnet elsker gud oc jesum offuer alle ting saa snart zich eus den gierige toldere hand kommer udi jesu omgengelse forlader hand sin gierighed lader aff at udsue sin næste bliffuer gaffuemild imod sin fattige næste oc siger see herre halfdeelen aff mit gods \n",
      "\n",
      "den kraft som findis udi \u001b[1mjesu\u001b[0m \u001b[1mlærdom\u001b[0m huilcken christus selff saaledis taler til jøderne sang sandelig jeg siger eder dersom nogen holder mit hand skal icke see døden evindeligen oc paa det s ers tilhørere kunde være dis vissere paa den lærdoms ndhed som de hafue hørt aff s peder da siger hand nem at det hand hafuer selff seet \n",
      "\n",
      "du med dit blod maa \u001b[1mjesu\u001b[0m \u001b[1mlærdom\u001b[0m bekreffte oc besegle saa skal endda jesus være dig en jesus oc frelsere tenck paa jesu ord frycter eder icke for dem som ihielpaae legeme men kunde icke ihestale siælen meycter eder heller for den som kand forderffue baade egemet oc siæl udi helfuede tenck paa jesu trøst taledis liudendis huo som mig \n",
      "\n",
      "siel holder eder ickun til \u001b[1mjesu\u001b[0m \u001b[1mlærdom\u001b[0m saa skal jesus igien holde sig til eder at hielpe eder aff ald den nød som j kunde ifalde enten paa legem eller paa siæl giører j som folcket giorde om huilcket her staar der jesus gick ned aff bierget fulde der meget folck effter hannem stiger op med hue oc hierte paa \n",
      "\n",
      "herlig oc hellig lære dom \u001b[1mjesu\u001b[0m \u001b[1mlærdom\u001b[0m den er saa skeer det dog dis verreundertiden at et meniske saa bedragis af diefuelen at hand aff modvillig ondskab forhaaner oc bespotter jesu christi lærdom som hand udi hu oc hierte bekiender at være saadan en lærdom som alleene kand føre til salighed om saadanne mennisker taler guds aand udi epistelen til \n",
      "\n",
      "leffnet skaae oc skicke at \u001b[1mjesu\u001b[0m \u001b[1mlærdom\u001b[0m er den ene saliggiørendis lærdom det giffuer evangelisten saaledis ilklende jesus dref en diefuel ud hand vaar dum oc det skeede der dieffuelen foer ud da talede den dumme oc folcket forundrede sig huad ville j tuiffle om jesu lærdom er den ene laliggiørende lærdom der aff see jjo at jesus er den \n",
      "\n",
      "huad ville j tuiffle om \u001b[1mjesu\u001b[0m \u001b[1mlærdom\u001b[0m er den ene laliggiørende lærdom der aff see jjo at jesus er den rette verdens forlofuede saliggiørere oc at hans lærdom er den lærdom som ene tiener til salighed at der er lingen ting saa vanskelig oc wmuelig at den kand jo ved jesum oc hans lærdom lætteligen forrettis huad kand være vanskeligere \n",
      "\n",
      "dieffuelen gaar til jesum oc \u001b[1mjesu\u001b[0m \u001b[1mlærdom\u001b[0m oc j skulle bliffue hannem qvit hører huad jesus sagde til sine disciple som hannem annammede oc hans lærdom helbreder de siuge renser de spedalske opvecker de døde vddriffuer diffle hører huad jesus hand loffuer dennem som trot paa hannem de tegn siger jesus som skulle følge dennem som trg paa mig ere \n",
      "\n",
      "i christo oc i christi \u001b[1mjesu\u001b[0m \u001b[1mlærdom\u001b[0m huo vil icke med folcket forundre sig paa christi ordis krafft aldrig er dieffuelen saa mæctig hand maa jo vilge for jesu christo oc for hans lærdom acter mig paa det menniske om huilcket der staar saaledis udi evangelio der møtte jesu et menniske som kom aff de dødis graffuer med en wreen \n",
      "\n",
      "til eders frelsere oc haffue \u001b[1mjesu\u001b[0m \u001b[1mlærdom\u001b[0m oc forundrer eder offuer jesu lærdoms krafft tiener oc tacker gud for saadan naade oc sige huer aff eder med forundring om jesu hand haffuer giort alting vel de døffue giorde hand hørendis oc de maalløse talende bort bort j som bespotte jesum oc sige hand driffuer dieffle ud ved belzebub den øffuerste \n",
      "\n",
      "dennem som icke ville annamme \u001b[1mjesu\u001b[0m \u001b[1mlærdom\u001b[0m for en guddommelig lærdom men j som ere saa vijt henkomne udi eders hierters haardhed at j mod eders samvittigheds vidnisbyrd understaa eder offentlig at udgrobe jesu lærdom for en diefuels lærdom oc skammer eder icke ved at sige at jesus uddriffuer dieffle ved den øffuerste dieffuel beelzebub hører huad jesus suarer eder \n",
      "\n",
      "understaa eder offentlig at udgrobe \u001b[1mjesu\u001b[0m \u001b[1mlærdom\u001b[0m for en diefuels lærdom oc skammer eder icke ved at sige at jesus uddriffuer dieffle ved den øffuerste dieffuel beelzebub hører huad jesus suarer eder saa siger evangelisten da fornam hand deris tancker oc sagde til de nee det er aldrig værd at nogen ville skiule sine tancker for jesu saa siger s \n",
      "\n",
      "udi eders hierte ilde om \u001b[1mjesu\u001b[0m \u001b[1mlærdom\u001b[0m oc sige hos eder selff at jesus uddriffuer dieffle ved den øffuerste dieffuet beelzebub huert rige siger jesus som vorder weens med sig selff bliffuer øde oc it huus falder offuer det andet er da saianas reens med sig selff huorledis kand hans rige bliffue bestandigt acter paa jesu lærdom oc paa dieffuelens \n",
      "\n",
      "rige bliffue bestandigt acter paa \u001b[1mjesu\u001b[0m \u001b[1mlærdom\u001b[0m oc paa dieffuelens lærdom oc strax skulle i lettelig eracte at jesus icke uddrifue diefle ved beelzebub den ofuerste diefuel monne jesus med sin lærdom icke alleene der paa driffue at j ingen anden skulle tiene tacke ære paakalde uden alleene den gud som skabte himmelen oc jorden hører huad jesus siger udi \n",
      "\n",
      "om jesu oc bestaar at \u001b[1mjesu\u001b[0m \u001b[1mlærdom\u001b[0m er aff gud oc at jesus giører sine mirackler ved guds finger til hannem er guds rige kommet saa giorde sin bekiendelse om christo nitodemus sigendis mestere vi vijde du est en lærere kommen aff gud thi ingen kand giøre de tegn som du giør uden gud er med hannem huo der hafuer \n",
      "\n",
      "mennisker som haffuer engana sinaget \u001b[1mjesu\u001b[0m \u001b[1mlærdom\u001b[0m oc er ved jesu lærdoms kraft engang befrjede fra diefuelens vold oc mact høret huad straf eder ofuerhenger dersom j paa ny igien modvilligen falde fra den herre jesu oc giører eder atlet igien til syndsens trælle saa siger til eder jesus naar den onde aand udfar aff mennisket da vandrer hand igiennem \n",
      "\n",
      "j som engang ere ved \u001b[1mjesu\u001b[0m \u001b[1mlærdom\u001b[0m blefuen qvit ved dieffuelen at j haffue nu intet ydermeere at befrycte eder for hannem j skulle være visse paa at j som haffue kiendt jesum christum oc ere ved hans hellige blod engang afftoet aff eders synder at huis begynde at foracte jesum oc modvilligen at henfalde i synd oc ondskab at \n",
      "\n",
      "paa ferde huorsom jesus oc \u001b[1mjesu\u001b[0m \u001b[1mlærdom\u001b[0m oc jesu blod modivilligen oc indtil enden foractis hører huad jesus siger udi evangelio ald synd oc bespottelse skal forladis menniskene men bespottelse mod aanden skal icke forladis menniskene oc huo som taler noget mod menniskens søn det skal forladis hannem men huo som taler noget mod den hellig aand hannem skal det \n",
      "\n"
     ]
    }
   ],
   "source": [
    "corpus_test = corpus_clean.split()\n",
    "words = ['jesu','lærdom']\n",
    "\n",
    "for i in range(len(corpus_test)):\n",
    "    if corpus_test[i:i+len(words)] == words:\n",
    "        for x in range(i-5,i+55):\n",
    "            if x in range(i,i+len(words)):\n",
    "                print('\\033[1m'+corpus_test[x]+'\\033[0m',end=' ')\n",
    "            else:\n",
    "                print(corpus_test[x],end=' ')            \n",
    "        print('\\n')"
   ]
  },
  {
   "cell_type": "code",
   "execution_count": 20,
   "id": "47060da2",
   "metadata": {},
   "outputs": [
    {
     "name": "stdout",
     "output_type": "stream",
     "text": [
      "Displaying 200 of 445 matches:\n",
      "der thi det vijde j aff skrifften at ald falsk lærdom oc ald uskickeligt oc forargeligt leffnet kald\n",
      "ens surdey men for pharisæernis oc saduecernis lærdom men ligesom christus udi forbemelie platz ved \n",
      "platz ved surdey forstaar den falske oc vrange lærdom saa bruger s povel udi voris epistel surdeyens\n",
      " j skulle vocte eders siæle vel fra den falske lærdom haffuer for øyen s povels formaning der hand g\n",
      "r til eder med disse ord vocter eder for vrang lærdom oc vanhellig tale thi de som med saadant omgaa\n",
      " som nogen kommer til eder oc fører icke denne lærdom hannem anammer icke til huse oc hilser hannem \n",
      "hierter j sange guds børn at j saadan fornøden lærdom kande fatte oc forstaa oc der effter eder forh\n",
      "ør en fortrefflig tale om christi prædicken oc lærdom om christi gierninger om christi død om christ\n",
      " at du kiender jesum oc vedst at sige aff hans lærdom oc gierninger oc bygger all din retfærdighed p\n",
      "jøderne haffue mist i det de haffuer mist jesu lærdom oc huad gode oc glæde vi hedninge haffue bekom\n",
      "kulle offuer alle ting ære jesum oc elske hans lærdom thi saa staar der om den herre jesu skrefuen d\n",
      "esus alle dem som holde med stadig tro vi hans lærdom signer oc salper huo vilde icke bliffue hijesu\n",
      "per huo vilde icke bliffue hijesum oc hos jesu lærdom giffuer act paa huordi jesus hand er oc der af\n",
      "ig heder thi huer haffuer noget synderligt til lærdom med sig at føre tiden andrager evangelisten si\n",
      "sum christum oc ville icke annamme den hellige lærdom om jesu christo til salighed saa lader dog ick\n",
      "ff at tilbiude jøderne sin naade oc den salige lærdom om den herre jesu christo paa det gud kand udi\n",
      "e det optaget for en stor naade at den hellige lærdom om den døde oc opstandne jesu christo prædicki\n",
      " mæctige som holte sig til pharisæernis falske lærdom monne christus icke beklage at imod hans tilko\n",
      "ffuerster naare faldne fra den sande oc salige lærdom oc haffde til døden forfuld jesum som en forfø\n",
      " de sig icke saa at de alleene følge udi deris lærdom mosis skrifter hi saa sige de udi johannis eva\n",
      "t i evangelio forgieffuis dyrcke j mig med den lærdom som et menniskens bud lærer menniskene at hold\n",
      "om voris salighed intet andet høre ingen anden lærdom følge end den som udi mose propheterne psalmer\n",
      "lhørere huad j hafue eder i guds meenighed til lærdom oc til vndervijszning at formode der skal i gu\n",
      "e under himmelen den hellige oc saliggiørendis lærdom om jesu christo men paa det ingen skulle tenck\n",
      "ig aand j da som henge saa fast ved den salige lærdom at jesus christus er gvds egen oc eenbaarne sø\n",
      " aand til it vist vidniszbiurd at der er innen lærdom ved huilcken den h aand bekommis kand uen den \n",
      "e skrifft er indblæst aff gvd oc er nyttig til lærdom til straff til vnderretning til optuctelse i r\n",
      "t mange som haffue høre den herlige oc hellige lærdom m den naadige syndernis forladelse som vi beko\n",
      "a udi s povels tid de som miszbrugde evangelij lærdom om den naadige syndernis forladelse i christi \n",
      " hen i en anden huor imod s jacob setter denne lærdom huad gaffn er det mine brødre om nogen siger h\n",
      "f som faarene angrijber her er vildfarelse udi lærdom som er en meget skiendig oc skadelig vif der k\n",
      "fuet til timotheum de vanhelligis forfengelige lærdom æder om sig som dødt kiød acter huer huad for \n",
      "or en gifftig viffuetand der et udi den falske lærdom huor den kommer ind udi hiertet da lader den i\n",
      "ectig til baade at somane formedelst den sunde lærdom saa oc at offuervinde dem som imodsige hen er \n",
      " ting for meenigheden j vide vi haffue alle en lærdom som er her udig korteligen befaltet der er int\n",
      "rd oc mandslet andre offuerfalde som med vrang lærdom indre forføre som med meenæd drager andre udi \n",
      " kommer nu j salige guds børn oc saadan hellig lærdom eder selff til salighed anmercker saa begynder\n",
      "at gvd ved sin hellig aand lærer oc den salige lærdom om sig selff oc om den herre jesu christo thi \n",
      "te sandheds ord er intet andet end den hellige lærdom om den herre jesu chrito huilcken aff gvd er b\n",
      "helliggiørelse oc gienløszuing denne evange ij lærdom allene her at forstaais ved sandheds ord det l\n",
      "te ord til salighed os forholdis er saadan høy lærdom at ingen haffuer kundet os den aabenbaret uden\n",
      "er os s povel icke forstaa at ingen kand denne lærdom ret satte uden ved den hellig aand huo vil nu \n",
      "d skal tale om denne hellige oc høye oc salige lærdom voct dig at du intet legger til denne lærdom v\n",
      "e lærdom voct dig at du intet legger til denne lærdom voct dig at du intet tager fra denne lærdom be\n",
      "ne lærdom voct dig at du intet tager fra denne lærdom betenck det s povel siger til de gallaler ders\n",
      "n voris uskickelige leffnet eller voris vrange lærdom skarpeligen strastis var dig at du optendis ic\n",
      "ke med vrede naar dine synder eller din vrange lærdom aff gvds ordiffuerligen angribis vær sindet so\n",
      "r rette fri mennisker med mindre jesus med sin lærdom giorde dem fri vidner iicke skrifften at de he\n",
      "skrifft dette vidnisbyrd at den er kienlig til lærdom til straff til rectelse til op tuctelse i retf\n",
      " manne da den hellig aand skulle føre en anden lærdom for end den om jesus selff haffde andraget den\n",
      "u christo saa skal den hellig aand ingen anden lærdom andrage end som jesus tilforn haffde lærd men \n",
      "e jesum at være en forbandet ting næfner nogen lærdom ved den hellig aand fremført som icke er den s\n",
      "ellig aand fremført som icke er den selffsamme lærdom som jesus forkyndede siger icke christus jesus\n",
      "oc føris er den hellig aand gif act paa om din lærdom din tro dit lefnet stemmer offuereens med den \n",
      " din tro dit lefnet stemmer offuereens med den lærdom tro oc leffnet som jesus udi sit ord haffuer d\n",
      " hellig aand skal tage det aff den herris jesu lærdom oc forkynde dig prøff du derfore huer aand ved\n",
      "ig prøff du derfore huer aand ved jesu hellige lærdom oc slut denne lærdom som jeg finder angiffuen \n",
      "uer aand ved jesu hellige lærdom oc slut denne lærdom som jeg finder angiffuen aff jesu vil jeg blif\n",
      "hi der aff veed jeg at det er den hellig aands lærdom fordi den er tagen altsammen aff jesu christi \n",
      " fordi den er tagen altsammen aff jesu christi lærdom oc er den selffsamme lærdom som jesus haffuer \n",
      "n aff jesu christi lærdom oc er den selffsamme lærdom som jesus haffuer andraget ne forkyndet men pa\n",
      "ud kand bestaa sijg du som haffuer den hellige lærdom om jesu christo jeg veed vel huad jeg vil giør\n",
      "huilcket menyplene bør at bliffue salige dende lærdom om den herre jesu det er den rette fuldkomne l\n",
      "s at holde sig effter den hellige jesu christi lærdom oc ved den at ville bliffue salig nanseet hand\n",
      " som offuertræder oc icke bliffuer udi christi lærdom hand haffuer icke gud huo som bliffuer udi chr\n",
      " haffuer icke gud huo som bliffuer udi christi lærdom hand hafuer baade faderen oc sønnen det lærer \n",
      "ren oc siddende hos guds høyre haand oc at den lærdom om christo som id indtil icke vaar ret fattet \n",
      "villie evare os fra dieffuelens rige fra falsk lærdom oc vrange guds tienister benar ocsaa vort liff\n",
      " eder vilt du være jesu ven da lad den hellige lærdom om jesu aldrig gaa dig aff hiertet tenck paa j\n",
      "c duelige at forkynde for mennisken den hellig lærdom om jesu christo oc syndernis forladelse som gi\n",
      "um som endnu der paa arbeydede huor ledis jesu lærdom kunde gandske udryddis oc med rodopryckis saa \n",
      "n foer ud i den samme skund monne jesu christi lærdom i disse dage haffue mindre krafft hos de troen\n",
      " det som gvds ord bort met menniskens optencte lærdom naar en guds mand udi guds huus skal tale om g\n",
      "døden dieffuelen verden sette sig op imod jesu lærdom det hielper intet den helsig aands vidnisbyrd \n",
      "en ville sette sig op imod christum oc christi lærdom saa kunde den dog entet formaa monne denne aan\n",
      " se allerheffligst vidne om christo oc chrjsti lærdom shandhed staar der icke udi apostlernis gierni\n",
      "t udraabis for it menniske som føren kectedske lærdom som vaar gud vederstyggelig oc f hannem fordøm\n",
      " icke s povel om saadanne mennier som fører en lærdom som strider imod guds ord omstøder salighedsen\n",
      "s dersom nogen kommer til eder oc fører idenne lærdom hannem annammer icke udi eders huoc hilser han\n",
      "i retferdighed lad være at de for saadan salig lærdom setter dig band sijge dig icke at haffue deel \n",
      " ere udi hiertet offuer bevijste at jesu chsti lærdom er den ene sande oc salige lærdom saa de dog u\n",
      "t jesu chsti lærdom er den ene sande oc salige lærdom saa de dog udi hu oc hierte saa indlagen aff f\n",
      "c samvittighe vidnisbyrd forfølge jesu christi lærdom staar der cke udi apostlernis gierninger at de\n",
      "baten staar der icke at j derne imodstod denne lærdom aff idel had oc derft motte høre guds ord skul\n",
      "ste christne de vaare varctige udi apostlernis lærdom oc samfunden oc brøds brydelsen oc bønerne de \n",
      "færdige til at for kynde den hellige oc salige lærdom om den herre jesu christo tæncker nu aldrig j \n",
      "c aff gandske hierte fuldkommeligen troe at de lærdom som ved apostlernis mund er fremført er den re\n",
      "ørt er den rette sande oc allene saliggiørende lærdom thi det vijde vil at det haffuer været herrens\n",
      "il udi eliæ tid der de kulstedis enten at eliæ lærdom eller baals prester lærdom vaar den rette lærd\n",
      "tedis enten at eliæ lærdom eller baals prester lærdom vaar den rette lærdom kommen aff himmelen su g\n",
      "rdom eller baals prester lærdom vaar den rette lærdom kommen aff himmelen su gud saa siger elias til\n",
      "elen bevijste at elias aar hans tienere oc den lærdom hand forkyndede vaar en tene saliggiørendis læ\n",
      "om hand forkyndede vaar en tene saliggiørendis lærdom saa fuldkommeligen roer jeg at voris herre jes\n",
      "uer bevist met de gloende tuner at apostlernis lærdom er den evige guds lærdom den huilcken intet me\n",
      " tuner at apostlernis lærdom er den evige guds lærdom den huilcken intet menniske kand bliffue salig\n",
      " ærdom er den gloende oc ret igienem trengende lærdom om kand hu hierte oc alle kraffter til gvds sa\n",
      "d ocsaa undervijsis vi at huos r antager denne lærdom om hannem vil herren være en jld at hindre ald\n",
      "embt du aff hiertet troer de hellige apostlers lærdom da vil hand være dig en gioende mur oc en nuof\n",
      "at prædicke de hellige oc allene saliggiørende lærdom om jesu christi da opfyldis de met den hellig \n",
      " thi huor skulde apostlerne kunde prædicke den lærdom om jesu for alle folck de som allene viste der\n",
      "ig aand der kand undervijse mig om den hellige lærdom jeg holder dig min gud dit løffte for som du u\n",
      "e skrifft er indblæst aff gvd oc er nyttig til lærdom til straff til rettelse til optuctelse i retfe\n",
      "d da skal endeligen høre den hellige evangelij lærdom om christo lower maa du hørt saa lenge som du \n",
      "gierninger j huis aand er ingen falskhed denne lærdom om syndernis forladelse at bekomme udi christo\n",
      "d at j ere guds børn j skulle høre den hellige lærdom om jesu christo sia icke s peder udi apostiern\n",
      "ille os frem for dit ansict at høre den hellig lærdom om jesu christo oc tro fuldkommeligen at du ic\n",
      " at huis i bliffue bestandige udi jesu christi lærdom da skulle vi nsider bekomme den ny tunge ved h\n",
      " herre jesu christo oc haffue aff jesu christi lærdom allereede bekommet den hel aand foracter icke \n",
      "aff jerusa lem da begynder den sande oc salige lærdom om jesu først mecteligen at tiltage det hielpe\n",
      "uinder oc antvorder dem hen i fengsel der jesu lærdom icke maa haffue rom udi jerusalem saa mager gv\n",
      "ger gvd det saa at samaria annammer den salige lærdom om jesu christo thi guds aand formelder at der\n",
      "nnem udi samaria som haffde anliget den salige lærdom om jesu christo huorledis de ennem mee den hel\n",
      "em udi samaria som haffde ranammet den hellige lærdom om jesu christo acter er huorledis gud giffuer\n",
      "somhed oc glæde andammer den hellige evangelij lærdom da bekomme de rax den velsignelse oc den helli\n",
      "ddog hand lærde an dre den salige jesu christi lærdom hand vende mange aff vildfarelsens oc syndlens\n",
      "en mig men jesus foruden skufften bevijser sin lærdom sandhed aff de store mirakler hand giorde oc s\n",
      "i ne forblefue hos lærdommen indtil den salige lærdom omjesu christo vaar offuer all verden udbred d\n",
      "n ved døren den herre jesum du som ingen anden lærdom antager til salighed end den som den herre jes\n",
      "effuis dyrcke de mig den stund de lærer saadan lærdom som er menniskens bud det er jo jesu befalning\n",
      " s povel forbandelse offuer huer den som anden lærdom til salighed vil antage sigende til de galater\n",
      "mme som understaar sig den herris jesu christi lærdom inten ved tilleggelse eller fratagelse i minds\n",
      "indgaaes hand være vis paa at hand ingen anden lærdom haffuer end den som jesus christus haffuer lad\n",
      "aarestien den christne kicke at du ingen anden lærdom antager end den som den herre jesus haffuer ti\n",
      "ristne kircke at du kiender dig icke til anden lærdom end jesu chrisi oc at du roser dig aff troen d\n",
      "ghed alle de da som antager til salighed anden lærdom end jesu christi alle som ville bliffue retfer\n",
      "yrcke mig forgieffuis den stund de lære saadan lærdom som ere menniskens bud huor heffteligen stride\n",
      "effterfølge j skulle gaa for faarene baade udi lærdom oc udi helligt leffnet saa biuder christus den\n",
      "huorledis hand icke saallene henvijser til sin lærdom bevisendis at den vaar aff gud men hand oc biu\n",
      " røst naar her kommer nogen som vil føre anden lærdom end den som gud haffuer udi sit ord ved prophe\n",
      "denne er en fremmet lærere hand fører icke den lærdom som gud aabenbaret haffuer fly hannem oc sijg \n",
      " s povel forbandet være den som fører en anden lærdom end den som jesus obenbaret haffuer vaar det e\n",
      "rsom nogen kommer til eder oc fører icke denne lærdom hannem annammer icke til huuse oc huser handne\n",
      " mordere som høyere skalte deris egen optentte lærdom end guds egne bud oc befalninger saaledis vaar\n",
      "ornelij huus der at forkynde den seliggiørende lærdom om jesu christo bryder hand i icke ud met diss\n",
      "il for guds ords harelse oc ringe stattede den lærdom om jesu christo at gvd haffde saa besluttet fo\n",
      "e skrifft er indblæst aff gvd oc er nyttig til lærdom til straff til rettelse til optuctelse som er \n",
      "til sine gierninger der de icke vilde tro hans lærdom saaledis talende til dennem de gierninger som \n",
      " ordgyder oc forkynder fkemmede guder oc en ny lærdom see mig til nicodemum der hand hører kale om j\n",
      "el veed icke at forstaa sig paa jgienfødelsens lærdom monne icke moses oc de hellige propheter haffu\n",
      "e den hellige oc til salighed endelig fornøden lærdom om jgienfødelsen du derfor som vil fatte oc fo\n",
      "e føder sijg met s povel jeg vil holde all den lærdom for en forbandelse som frensettis til salighed\n",
      "da vil jeg icke næcte dig er dette jo s hansis lærdom om den rette oc sande oc fuldtane kierlighed d\n",
      "er oc pharisæerne først forbittret paa christi lærdom oc sagde huad giøre v thi dette menniske giør \n",
      "en aarsage diszmeere bifaldet hans sandferdige lærdom beretter icke skrifften at der nogle af væeter\n",
      "paa sin broder hand er skyldis for domen denne lærdom er icke en ny lærdom udi det ny testamente før\n",
      "r skyldis for domen denne lærdom er icke en ny lærdom udi det ny testamente først opkommen men den h\n",
      "le fortabis men haffue det evige liff s hansis lærdom er denne dersom nogen synder da haffue vi en t\n",
      "christus siger der nogle forarger sig paa hans lærdom oc affalder monne j oc søllle gaa bort da suar\n",
      "idel had oc fortredelig hiertelag imod christi lærdom siger jo chistus til jøderne hos mattheum joha\n",
      "tendis med saadan kierlighed til jesum oc jesu lærdom at der hendis søster martha tager husens giern\n",
      "olck jøderne skulle acte en ringe ting om hans lærdom saa vender hand sig fra dennem til hedningene \n",
      " icke s hans udi aabenbaringen den herris jesu lærdom med disse ord der gick it tuteget suerd aff ha\n",
      "med min munds suerd oc huo vil benecte at jesu lærdom jo haffuer været som it skarpt suerd enten han\n",
      "er skulde mange icke allene støde sig paa hans lærdom men endocsaa legge sig effter at dempe jesu læ\n",
      "om men endocsaa legge sig effter at dempe jesu lærdom da setter jesus imod all saadan baade forargel\n",
      " j da som antage jesu hellige oc saliggiørende lærdom værer visse paa at ligesom gvd skiuler jesum m\n",
      "eskiermelse som holde eder hierteligen ti jesu lærdom oc paa den i liff oc død eder forlade j skulle\n",
      "ndervijser dennem bliffuer icke da jesu ord oc lærdom som en reen pil tagen aff guds kaager der de v\n",
      "aa veyen oc oploed os kkriffterne er icke jesu lærdom som en skarp oc reen piil der saaledis trrcker\n",
      "e en reen ill udi herrens koger belangende sin lærdom men end ocsaa met sit hellige leffned med sin \n",
      "er j nu huer til at j saaledis omgaaes med den lærdom om jesu christo at gud kand prusis i eder huil\n",
      "esum huer iffuerligen settede de sig imod hans lærdom huor lidet bleffue de aff jesu lærdom forbedre\n",
      "mod hans lærdom huor lidet bleffue de aff jesu lærdom forbedrede derjesus predickede i nazareth om g\n",
      " styrte hannem med holde icke phariseerne jesu lærdom saa ringe oc saa foractelig at de sige monne d\n",
      "gen men paa det at ingen skulle tencke at jesu lærdom vaar billigen forskiøt da setter propheten hos\n",
      " os med hiertens glæde annamme den herris jesu lærdom effterfølgendis apoftfs ene til huilcke der je\n",
      "at anamme den sande oc saliggiørende evangelij lærdom thi saa finde vi skrefuen hos evangelisten luc\n",
      " da forundrede de sig som det saae paa herrens lærdom saa gaar det gemeenlig til naar noget synderli\n",
      "s høyre haand som oc træuer frem for os saadan lærdom om frelsning som du der troer paa jesum haffue\n",
      "um haffuer at formode dig aff gud er cke en ny lærdom men den haffuer aff begyndelsen væet fremset u\n",
      "skyld forlade den sande oc salige jesu christi lærdom da drager den hellige apostel udi det octende \n",
      "kulle lade os drage fra gud oc den aabenbarede lærdom om jesu christo hand biuder at vi skulle sætte\n",
      "ge atskillige slags vijse sæctte sig imod hans lærdom at de kunde icke staa den vijsdom imod som han\n",
      "skal indføris udi jorderig ved christi rige oc lærdom iblant de mennisker som icke meere tilsammen k\n",
      "nger thi der paulus oc barnabas prædickede den lærdom om christo jesu oc den gandske slad samledis a\n",
      "erens oc sønnens oc den hellig aands ved denne lærdom som ved er aandeligt garn skulde apostlene som\n",
      "l udi s povels tild sagde jo de som hørde hans lærdom om syndernes naadige forladelse udi christi ud\n",
      "d seeis oc kiendis dis meere saadan forgifftig lærdom vederlegger den guds mand s povel udi voris he\n",
      "jesu naffn jeg haffuer icke roset mig aff jesu lærdom blod eller fortieniste oc dog haffuer jeg leff\n",
      " udi det evige liff som haffuer kiendt christi lærdom som hafuer annammit christum for sin frelsere \n",
      "herre sus paa phariseerne som med deris falske lærdom for de folcket saa siger hand i evangelio væ e\n",
      "lignelse paa det at huer mand kunde fatte hans lærdom om guds ligis hemmeligheder saa lader gud unde\n",
      "lgere maa udstaa dragis fra christo oc christi lærdom saa siger christus hos lucam den sæd som falt \n",
      " icke med andre ville falde fra hannem oc hans lærdom da suarer s peder paa alles vegne oc siger her\n",
      "ligen kier s povel haffuer hafft jesum oc hans lærdom det vidner hand i sendebrefuet til de philippe\n",
      " huo der saaledis er sindet imod jesum oc hans lærdom monne jesus for hannem igien haffue nogen omhy\n",
      "ndst hielpis seer mig til disciplene i christi lærdom lenge underviste huor lidet de fatte det som c\n",
      "te aarvaagenhed skulle tage os vare fra falske lærdom som føyer os fra gud som forderfuer voris siel\n",
      "lærere huis jdret er intet andet end ved prang lærdom at forføre sielene huor alvorligen formaner ha\n",
      "ra den sande oc salige gvds kundskab ved vrang lærdom forførtis giffuer act siger apostelen paa eder\n",
      "l eder oc icke vil fremføre for eder den sande lærdom om christo hannem annammer icke til huse oc he\n",
      "ed som findis hos apostlene at raade fra falsk lærdom den haffue de lært aff deris mestere oc frelse\n",
      "ærer huor omhyggeligen christus raader fra fal lærdom sigendis vocter eder for falske propheter seer\n",
      "uad omhyggelighed da christus raader fra falsk lærdom det gifuis med disse ord tilkiende vocter eder\n",
      "rden for synden huorledis den haffde sin falsk lærdom sine falske proheter meene j at abel oc cain h\n",
      "ke proheter meene j at abel oc cain haffde een lærdom bleff icke cain optend med vrede til abel ford\n",
      "mosen oc ved deris mirackler vilde giøte mosis lærdom oc mirackler til intet huor ifuerligen sætter \n",
      " de skriftloge oc phariseer imod jesum oc hans lærdom sigde icke jesum at omgaais med diefuelskab si\n",
      "oc de opperste præster til den blinde der jesu lærdom aff hannem kosis oc berømmis du est hans disel\n",
      " som er at de understaa sig at bekreffte deris lærdom med underlige tegn oc mirnckter paa det at de \n"
     ]
    }
   ],
   "source": [
    "corpus_nltk.concordance('lærdom',100,200)"
   ]
  },
  {
   "cell_type": "code",
   "execution_count": 15,
   "id": "af7f3ac6",
   "metadata": {},
   "outputs": [
    {
     "name": "stdout",
     "output_type": "stream",
     "text": [
      "Displaying 58 of 58 matches:\n",
      "en troes artickel om jesu christi opstandelse fatte oc forstaa thi der christus sagde at hand skulle\n",
      "e guds børn at j saadan fornøden lærdom kande fatte oc forstaa oc der effter eder forholde saa siger\n",
      "aadant kand j aldrig bedre oc vissere lære at fatte oc forstaa end at j ideligen oc med tilbørlig an\n",
      "d oplader voris forstand paa det vi kunde rer fatte oc forstaa det som udi gvds ord om hannem er and\n",
      "skal prædickis at j skulle med stadig tillijd fatte oc faffne i hiertet jesum christum som er død fo\n",
      "ere saa mørcke at hand oc de andre icke minde fatte oc forstaa dennem thi der christus siger til nsc\n",
      "cke kand begrijbe oc icke med fornufften kand fatte oc dog det aff hiertet troer du est salig vær vi\n",
      "huer guds barn diszdedre oc grundeligere kand fatte oc forstaa huorledis den rette hyrde christus el\n",
      " til oc apostlerne kunde icke udi begyndelsen fatte oc forstaa huorledis hedningene skulle ocsaa kom\n",
      "ren mercker paa ordene saa skull j letteligen fatte oc forstaa udi huad meening eders jesus hand sig\n",
      "uer nu act paa huorlede christi disciple icke fatte oc forstaa denne tale om jeffbortgang til fadere\n",
      " christus om dette som de beklage sig icke at fatte oc forstaa til oc offte haffuer baade phariseern\n",
      "ryctigis endeligt jeg kunde icke siger davidt fatte oc forstaa huorledis gud vaar retferdig som plag\n",
      "r dag skal nu voris hierte være beguem til at fatte oc faa nogen god oc fuldkommen gaffue her offuen\n",
      "d skal icke ancke det mindste paa mig jeg vil fatte oc fauffne jesum med salig oc stadig tro jeg vil\n",
      "fuer bekiend din egen elendighed saa skalt du fatte oc sauffne jesum udi hu oc hierte vijse gvd udi \n",
      "undervijser mig lærer j guds børn at vil le j fatte oc forstaa gvds ord eder til salig nytte oc gaff\n",
      "fuer act paa huor seent ferdige vi ere til at fatte oc forstaa det som hører gud oc guds rige til ha\n",
      " embede see mig hen til apolene huor lidet de fatte oc forstaa om gvds rige naar e icke raadis aff g\n",
      "t oc paa det du guds barn kand endnu disbedre fatte oc orstaa huad det hellige evangelium oc glædeli\n",
      "fuer faaet aff gvd viszdom oc forstand til at fatte oc forstaa sager oc at giøre skilszmnisse imelle\n",
      "en er større end i hand huo kand icke nu acte fatte oc forstaa huorfor re jesus hand siger sig at vi\n",
      "prædicken oc opladen hiertens dør at de kunde fatte oc forstaa ordet oc aff ordet bekomme troen oc s\n",
      " vijde dette at tro dette udi hu oc hierte at fatte oc føle det er den gvds vijszdoms rigdom det er \n",
      "mme af sine liggendefeffterdi da j icke kunde fatte oc forstaa huorfra værkommer oc huor det gaar he\n",
      " vi klarligen udi nicodemo huilcken icke kand fatte oc forstaa huis jesus taler om jgienfødelsen for\n",
      "den lærdom om jgienfødelsen du derfor som vil fatte oc forstaa huis dig til salighed oc det evige li\n",
      " guds hemmeligheder dig til salighed fornøden fatte oc forstaa lær aff christo huad du skalt giøre a\n",
      "t saadane fornufften langt offuergaaende kand fatte oc forstaa saa taler til nitodemum hor hørre jes\n",
      "jeg hører tale om guds rige det kand jeg icke fatte oc forstaa det komer mig gandske urimeligt for s\n",
      "rtabis men haffue det evige liff dette ret at fatte oc til salighed at forstaa da trin frem oc sijg \n",
      "ge intet hiertkand den nocksom udi dette liff fatte oc forstaa vi ville i cke hid føre alt det som g\n",
      " til exempel at effterfølge saa kande j strax fatte oc forstaa at de brødre som vi skulle lade liffu\n",
      "er paa det som aandeligt er de kunde det icke fatte oc forstaa saa forundre jøderne sig offuer jesu \n",
      "r ved apostelen fremsætter enddog vi den icke fatte oc forstaa sijg mig huorledis himlene kund høre \n",
      "ff sig føder nemlig det evige liff saadant at fatte oc forstaa kommer de kladelige mennisker vanskel\n",
      "ndsætning fordi du med din fornufft icke kand fatte oc forstaa huorledis du kandst hielpis seer mig \n",
      "hed oc hellighed paa det nu at kand dis bedre fatte oc forstaa huad det er at aflegge gamle menniske\n",
      "unde offuersktugge nogle aff dem huo kand det fatte oc forstaa at naar de hente suedekuge oc haandkl\n",
      " eders siæle oc alle eders krafter at i kunde fatte oc forstaae disse tegn oc til denne dag paa huil\n",
      "ribe thi huorledis kandst du met din forstand fatte oc forstaa huorledis heren vaager ofuer dig huor\n",
      "erdslige lyst aabne nu huer hierte oc aand at fatte oc forstaae disse ord verd i liff oc død at ihuk\n",
      "ans domme oc hans veye wsporlige thi huo kand fatte oc forstaa huor det gaar til at de som allermest\n",
      "e her du gvds barn huor lidet vi aff os selff fatte oc forstaae guds oe jesu ord naar vi icke med bø\n",
      " sig roser hand rose sig i herren saaledis at fatte oc inderligen forvare jesum i hue oc hierte det \n",
      "dder bevijste sin inderlig tillijd til hanimn fatte oc sauffne du jesum udi hu oc hierte sijg jeg er\n",
      "o saaledis er sindet hand er rede til at høre fatte oc annamme det herlige oc hellige evangilium men\n",
      "ighed end at j kunde dagligen it ders hierter fatte oc saffne jesum christum huilen som er guds rett\n",
      "r saa vil jeg da gaae til dig jesu oc jeg vil fatte oc faffne dig oc sige til dig jesu det er din he\n",
      "n frelseris ted en ting er fornøden som er at fatte oc faffne esum oc gifue act paa hans tale det er\n",
      "yld at alle som dette ord høre det icke kunde fatte oc forstaae menne christus fremsætte himmerigis \n",
      "ldrig værit guds vilie at de skulle nogen tid fatte oc forstaae ordet oc der aff haffue nogen gafn b\n",
      "emsætte oc forkynde paa det at alle kunde det fatte oc forstaa siger icke david om guds ord dit ord \n",
      "eene høre guds ord men endocsaa det til affns fatte oc forstaae at gud haffuer fornemmeliren derfor \n",
      "gste oc høyeste gud mand s hans hand kand den fatte oc forstaa thi guds aand udtryckeligen formelder\n",
      "ehagelighed oc paa det j endnu disbedre kunde fatte oc forstaa tat jesus er den elskelige guds søn t\n",
      "a magdalena giorde sæt dig ned hos jesu føder fatte oc fafne jesum med stadig tro kysse hannem væde \n",
      " førske testamente gack nu lige hen til jesum fatte oc faffne hans blodige saar udi hu oc hierteraab\n"
     ]
    }
   ],
   "source": [
    "corpus_nltk.concordance(['fatte','oc'],100,200)"
   ]
  },
  {
   "cell_type": "code",
   "execution_count": 16,
   "id": "30073766",
   "metadata": {},
   "outputs": [
    {
     "name": "stdout",
     "output_type": "stream",
     "text": [
      "gud dig hannem eder mig verden os gvd herren retfærdighed det himmelen\n",
      "at døden oc dem dennem sig hierte christo\n"
     ]
    }
   ],
   "source": [
    "corpus_nltk.similar('synd')"
   ]
  },
  {
   "cell_type": "code",
   "execution_count": 17,
   "id": "208b6da9",
   "metadata": {},
   "outputs": [
    {
     "name": "stdout",
     "output_type": "stream",
     "text": [
      "den_om den_som en_som til_til christi_oc saadan_som denne_som udi_oc\n",
      "i_oc til_oc den_hand oc_som hans_at jesu_aff den_til all_oc min_skal\n",
      "den_oc udi_hand en_det\n"
     ]
    }
   ],
   "source": [
    "corpus_nltk.common_contexts(['lærdom','kierlighed'])"
   ]
  },
  {
   "cell_type": "code",
   "execution_count": 18,
   "id": "63866477",
   "metadata": {},
   "outputs": [
    {
     "name": "stdout",
     "output_type": "stream",
     "text": [
      "Displaying 9 of 9 matches:\n",
      "g udi de onde begierligheder som verdens børn legge sig effter være langt fra \n",
      "inggiffue hans siæl oc huorledis verdens børn forfølge hannem da sætter hand i\n",
      "hand giorde snildelige thi denne verdens børn ere klogere end liusens børn i d\n",
      "hand giorde snldeligen thi denne verdens børn ere klogere end liusens børn der\n",
      "et udi disse ord forfattet denne verdens børn ere klogere udi deris slect end \n",
      "er icke rin aarsag sagd at denne verdens børn ere klore end liusens børn udi d\n",
      "digt hierte som følger verden oc verdens børn jeg vil tencke paa jesu ord huo \n",
      "ryggelige løfte hører huab denle verdens børn i nødens oc trangens tijd pleye \n",
      "m den wretfo dige husfoget denne verdens børn ere klog end liusens børn i deri\n"
     ]
    }
   ],
   "source": [
    "corpus_nltk.concordance(['verdens','børn'])"
   ]
  },
  {
   "cell_type": "code",
   "execution_count": 23,
   "id": "11c55500",
   "metadata": {
    "collapsed": true
   },
   "outputs": [
    {
     "name": "stdout",
     "output_type": "stream",
     "text": [
      "afftencker 1\n",
      "afftenlectie 23\n",
      "betractis 3\n",
      "betractendis 1\n",
      "betractende 2\n",
      "betracter 48\n",
      "affterre 1\n",
      "affter 4\n",
      "afftenleelie 1\n",
      "afftenen 9\n",
      "afftens 6\n",
      "affte 1\n",
      "afftenleetie 1\n",
      "afftenlecte 1\n",
      "afften 19\n",
      "betracte 47\n",
      "betractning 3\n",
      "afftenlectit 2\n",
      "betract 2\n",
      "afftentetie 1\n"
     ]
    }
   ],
   "source": [
    "for word in corpus_clean.split():\n",
    "    if word.startswith('affte'):\n",
    "        lst.append(word)\n",
    "for word in list(set(lst)):\n",
    "    print(word, corpus_nltk.count(word))"
   ]
  },
  {
   "cell_type": "markdown",
   "id": "34a1ca4a",
   "metadata": {},
   "source": [
    "## Collocations"
   ]
  },
  {
   "cell_type": "code",
   "execution_count": 24,
   "id": "7e92687e",
   "metadata": {
    "collapsed": true
   },
   "outputs": [
    {
     "data": {
      "text/plain": [
       "[('hellig', 'aand'),\n",
       " ('jesu', 'christi'),\n",
       " ('jesum', 'christum'),\n",
       " ('guds', 'børn'),\n",
       " ('jesus', 'christus'),\n",
       " ('høyre', 'haand'),\n",
       " ('evige', 'liff'),\n",
       " ('guds', 'aand'),\n",
       " ('alle', 'ting'),\n",
       " ('guds', 'barn'),\n",
       " ('hellig', 'aands'),\n",
       " ('herre', 'jesu'),\n",
       " ('jesu', 'christo'),\n",
       " ('kort', 'forklaring'),\n",
       " ('himmelske', 'fader'),\n",
       " ('guds', 'ord'),\n",
       " ('ævige', 'liff'),\n",
       " ('herris', 'jesu'),\n",
       " ('menniskens', 'søn'),\n",
       " ('guds', 'ords')]"
      ]
     },
     "execution_count": 24,
     "metadata": {},
     "output_type": "execute_result"
    }
   ],
   "source": [
    "bcf = BigramCollocationFinder.from_words(corpus_clean.split(),window_size=2)\n",
    "bcf.apply_word_filter(lambda w: len(w) < 3 or w in stopwords)\n",
    "bcf.apply_freq_filter(5)\n",
    "bcf.nbest(BigramAssocMeasures.likelihood_ratio,20)"
   ]
  },
  {
   "cell_type": "code",
   "execution_count": 25,
   "id": "252e296d",
   "metadata": {
    "collapsed": true
   },
   "outputs": [
    {
     "data": {
      "text/plain": [
       "[('hellig', 'aand'),\n",
       " ('jesu', 'christi'),\n",
       " ('jesum', 'christum'),\n",
       " ('guds', 'børn'),\n",
       " ('jesus', 'christus'),\n",
       " ('høyre', 'haand'),\n",
       " ('evige', 'liff'),\n",
       " ('alle', 'ting'),\n",
       " ('guds', 'aand'),\n",
       " ('hellig', 'aands'),\n",
       " ('himmelske', 'fader'),\n",
       " ('guds', 'barn'),\n",
       " ('kort', 'forklaring'),\n",
       " ('guds', 'ord'),\n",
       " ('jesu', 'christo'),\n",
       " ('ævige', 'liff'),\n",
       " ('herre', 'jesu'),\n",
       " ('herris', 'jesu'),\n",
       " ('menniskens', 'søn'),\n",
       " ('giffuer', 'act')]"
      ]
     },
     "execution_count": 25,
     "metadata": {},
     "output_type": "execute_result"
    }
   ],
   "source": [
    "bcf = BigramCollocationFinder.from_words(corpus_clean.split(),window_size=3)\n",
    "bcf.apply_word_filter(lambda w: len(w) < 3 or w in stopwords)\n",
    "bcf.apply_freq_filter(5)\n",
    "bcf.nbest(BigramAssocMeasures.likelihood_ratio,20)"
   ]
  },
  {
   "cell_type": "code",
   "execution_count": 26,
   "id": "5ec6d5c0",
   "metadata": {},
   "outputs": [
    {
     "data": {
      "text/plain": [
       "[('hellig', 'aand'),\n",
       " ('jesu', 'christi'),\n",
       " ('jesum', 'christum'),\n",
       " ('david', 'psalmen'),\n",
       " ('høyre', 'haand'),\n",
       " ('evighed', 'amen'),\n",
       " ('regnerer', 'evighed'),\n",
       " ('evige', 'liff'),\n",
       " ('himmelske', 'fader'),\n",
       " ('gudelig', 'kort'),\n",
       " ('kort', 'forklaring'),\n",
       " ('amen', 'cap'),\n",
       " ('evighed', 'epistelen'),\n",
       " ('skriffuer', 'cap'),\n",
       " ('sand', 'evighed'),\n",
       " ('gudelig', 'forklaring'),\n",
       " ('evighed', 'søndag'),\n",
       " ('hellig', 'aands'),\n",
       " ('amen', 'skriffuer'),\n",
       " ('alle', 'ting')]"
      ]
     },
     "execution_count": 26,
     "metadata": {},
     "output_type": "execute_result"
    }
   ],
   "source": [
    "bcf = BigramCollocationFinder.from_words(corpus_clean.split(),window_size=20)\n",
    "bcf.apply_word_filter(lambda w: len(w) < 3 or w in stopwords)\n",
    "bcf.apply_freq_filter(5)\n",
    "bcf.nbest(BigramAssocMeasures.likelihood_ratio,20)"
   ]
  }
 ],
 "metadata": {
  "kernelspec": {
   "display_name": "Python 3 (ipykernel)",
   "language": "python",
   "name": "python3"
  },
  "language_info": {
   "codemirror_mode": {
    "name": "ipython",
    "version": 3
   },
   "file_extension": ".py",
   "mimetype": "text/x-python",
   "name": "python",
   "nbconvert_exporter": "python",
   "pygments_lexer": "ipython3",
   "version": "3.10.9"
  }
 },
 "nbformat": 4,
 "nbformat_minor": 5
}
