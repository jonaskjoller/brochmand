{
 "cells": [
  {
   "cell_type": "code",
   "execution_count": 48,
   "id": "3b76382d",
   "metadata": {},
   "outputs": [],
   "source": [
    "# Requirements\n",
    "import re\n",
    "from thefuzz import fuzz\n",
    "from thefuzz import process\n",
    "import os\n",
    "import nltk\n",
    "from nltk.collocations import BigramCollocationFinder\n",
    "from nltk.metrics import BigramAssocMeasures"
   ]
  },
  {
   "cell_type": "code",
   "execution_count": 2,
   "id": "517c360d",
   "metadata": {},
   "outputs": [],
   "source": [
    "file1 = \"data/brochmand_sabbati_sanctificatio_sommer.txt\"\n",
    "file2 = \"data/brochmand_sabbati_sanctificatio_vinter.txt\""
   ]
  },
  {
   "cell_type": "code",
   "execution_count": 3,
   "id": "a6081362",
   "metadata": {},
   "outputs": [],
   "source": [
    "corpus = \"\"\n",
    "with open(file1,'r',encoding='utf-8') as file:\n",
    "    corpus += file.read()\n",
    "with open(file2,'r',encoding='utf-8') as file:\n",
    "    corpus += file.read()"
   ]
  },
  {
   "cell_type": "code",
   "execution_count": 4,
   "id": "1fa9a645",
   "metadata": {},
   "outputs": [],
   "source": [
    "corpus_clean = corpus\n",
    "corpus_clean = re.sub('=\\n','',corpus_clean)\n",
    "corpus_clean = re.sub('\\n',' ',corpus_clean)\n",
    "corpus_clean = re.sub('[!\"#$%&\\'()*+,-./:;<=>?@[\\\\]^_`{|}~]','',corpus_clean)\n",
    "corpus_clean = corpus_clean.lower()\n",
    "corpus_clean = re.sub(' +',' ',corpus_clean)"
   ]
  },
  {
   "cell_type": "code",
   "execution_count": 5,
   "id": "b4b94b46",
   "metadata": {},
   "outputs": [],
   "source": [
    "with open(\"stopwords/stopwords.txt\",'r',encoding='utf-8') as file:\n",
    "    stopwords = file.read().split()"
   ]
  },
  {
   "cell_type": "code",
   "execution_count": 6,
   "id": "3730ccdd",
   "metadata": {},
   "outputs": [],
   "source": [
    "corpus_nostops = []\n",
    "for word in corpus_clean.split():\n",
    "    if word not in stopwords:\n",
    "        corpus_nostops.append(word)"
   ]
  },
  {
   "cell_type": "code",
   "execution_count": 7,
   "id": "499e3c5a",
   "metadata": {},
   "outputs": [],
   "source": [
    "corpus_nostops_freq = nltk.FreqDist(corpus_nostops)"
   ]
  },
  {
   "cell_type": "code",
   "execution_count": 37,
   "id": "7e33f93a",
   "metadata": {
    "collapsed": true
   },
   "outputs": [
    {
     "name": "stdout",
     "output_type": "stream",
     "text": [
      "('af', 453)\n",
      "('retfærdighed', 452)\n",
      "('dieffuelen', 452)\n",
      "('samme', 448)\n",
      "('lærdom', 445)\n",
      "('vilt', 444)\n",
      "('ret', 443)\n",
      "('bort', 442)\n",
      "('gick', 431)\n",
      "('stor', 429)\n"
     ]
    }
   ],
   "source": [
    "most_common = list()\n",
    "for word in corpus_nostops_freq.most_common(110)[-10:]:\n",
    "    most_common.append(word)\n",
    "for word in most_common:\n",
    "    print(word)"
   ]
  },
  {
   "cell_type": "code",
   "execution_count": 8,
   "id": "e6c3def7",
   "metadata": {},
   "outputs": [],
   "source": [
    "corpus_freq = nltk.FreqDist(corpus_clean.split())"
   ]
  },
  {
   "cell_type": "code",
   "execution_count": 9,
   "id": "1936300d",
   "metadata": {},
   "outputs": [],
   "source": [
    "corpus_nltk = nltk.Text(corpus_clean.split())"
   ]
  },
  {
   "cell_type": "code",
   "execution_count": 56,
   "id": "cd5c3021",
   "metadata": {},
   "outputs": [
    {
     "name": "stdout",
     "output_type": "stream",
     "text": [
      "læredom 1\n",
      "lætdom 1\n",
      "lærdommen 10\n",
      "lordom 1\n",
      "lærom 2\n",
      "lerdom 1\n",
      "lørdom 1\n",
      "lærdomalen 1\n",
      "lærkom 1\n",
      "lærduom 1\n",
      "lældom 1\n",
      "lardom 1\n",
      "lærdem 3\n",
      "lærdom 445\n",
      "lærdomme 5\n",
      "lærdommens 3\n",
      "lærdon 4\n",
      "lægdom 21\n",
      "læedom 1\n",
      "ærdom 4\n",
      "lærdo 2\n",
      "lirdom 1\n",
      "lærdos 2\n",
      "lærdomo 1\n",
      "lærdoms 62\n",
      "lærdam 1\n",
      "577\n"
     ]
    }
   ],
   "source": [
    "lst = []\n",
    "total_counts = 0\n",
    "keyword = 'lærdom'\n",
    "for word in corpus_clean.split():\n",
    "    if fuzz.ratio(keyword,word) > 80 or word.startswith(keyword):\n",
    "        lst.append(word)\n",
    "        total_counts += 1\n",
    "for word in list(set(lst)):\n",
    "    print(word, corpus_nltk.count(word))\n",
    "print(total_counts)"
   ]
  },
  {
   "cell_type": "code",
   "execution_count": 11,
   "id": "1a4afc40",
   "metadata": {
    "collapsed": true
   },
   "outputs": [
    {
     "name": "stdout",
     "output_type": "stream",
     "text": [
      "Displaying 2 of 2 matches:\n",
      "s med det hellige apostoliske ord betractende huad straff dennem offuerhenger s\n",
      "delige begieringer betenckende oc betractende at j ere fremmede oc vdlendige me\n",
      "Displaying 1 of 1 matches:\n",
      "kulle være tuctige oc skickelige betractendis det som christus din frelsere si\n",
      "Displaying 2 of 2 matches:\n",
      "aff jøderne at guds ord vaar dennem betract huor kommer det da at nitodemus en \n",
      "kandst naae kienodiet da betenck oc betract med gudelig flijd apostelens ord hu\n",
      "Displaying 3 of 3 matches:\n",
      "dette ord som med saadan fiud skal betractis oc betenckis det er den fuldkomne \n",
      "actsomhed oc flijd at betænckis oc betractis det eene er vor herris jesu christ\n",
      "ngelio huilcket naar det gudeligen betractis oc betænckis da bekommer mand den \n",
      "Displaying 25 of 47 matches:\n",
      " bør søge retteligen salighed hand betracte det som guds aand lærer er galater\n",
      "de gud at mand skulde betey cke oc betracte at jesus icke lerd for sine synder\n",
      "de samvittighed skulle betencke oc betracte disse hans ord herrens aand er off\n",
      "at de skulle betencke oc gudeligen betracte huad for store oc stercke fiender \n",
      " hand beder at huert guds barn vil betracte oc betencke sin stand oc vilkor he\n",
      "b der hand begynder at betencke oc betracte huor adskillige bedrøffuelser der \n",
      "s barns hierte da hand betencke oc betracte det som jesus her sijger skulle gr\n",
      "et du est igienfød at høre læse oc betracte thi saa siger s povel til timotheu\n",
      "j guds børn med tilbørlig flijd at betracte huadd t er at bede udi jesu naffn \n",
      "c fornemmeligen skulle betæncke oc betracte huorledis jesus haffuer i gien ved\n",
      " at vijde det ville vi os til gode betracte at skaffnet theophilus liuder saa \n",
      "all aans delig fund at belancke oc betracte tiden paa huilcken vi leffue sigen\n",
      "lle i som læ se bruge oc gudeligen betracte det hellige evangelium om jesu chr\n",
      "lader os met tacknemmelige hierter betracte det jesus siger til disciplene der\n",
      "kulle met største ydmya forundring betracte baadt guds vijszdom oc godhed i de\n",
      "kostelig linklæde hand betæncke oc betracte huorfor at klæder ere indkomne udi\n",
      "en betæncke oc udi aand oc sandhed betracte at je us christus hand os udi skri\n",
      "talede huo skulle icke spaa her af betracte huer voris modstanderis diefuelens\n",
      "il intet bliffue jeg vil inderlige betracte oc betencke at creaturet skal blif\n",
      "d dette biuder herren guds børn at betracte hos esaiom sigende opløffter eders\n",
      " gvds barn begynder at betæncke oc betracte at himmel oc jord oc huad der udi \n",
      "s ger hand skal med tilbørlig fljd betracte oc betencke det jesus hand siger u\n",
      " da er her endnu et andet gaffn at betracte som du haffuer aff jesu christi be\n",
      "et som leffuer med velbehagelighed betracte huer s povels ord alle gvds creatu\n",
      "t sine gafuer om de ere store huer betracte til huad ende guds aand lader sine\n",
      "Displaying 3 of 3 matches:\n",
      "altid er udi guds ords læsning oc betractning salig er den mand som haffuer lys\n",
      "naar jesus ved ordsens hørelse oc betractning saa høyt elskis oc actis at hiert\n",
      "der giorde der aff idet ydmygheds betractning falder for jesu knæ oc siger til \n",
      "Displaying 25 of 48 matches:\n",
      "g tale om jes opstandelse at du is betracter oc gudelig betæncker herrens ord h\n",
      "m udi der spnagoger huer sabbapdag betracter her at det er it nock til salighed\n",
      " herligheds aabenbarelze huo dette betracter med tilbørlig andact oc gudelighed\n",
      "ro oc tillid dagligen betencket oc betracter heretteligen beskuer christi jesu \n",
      " er vender eders øyen til mosen oc betracter huorledis hand ved troen haffuer o\n",
      "d allerstørste ydmyghed tencker oc betracter at dette blod vaar guds søns eget \n",
      "il gud ideligen om den hellig aand betracter at j icke kunde eders embede rette\n",
      "dette huo der udi hu oc hierte ret betracter hand betencker tilberligen huad de\n",
      "em med tilbørlig fljd betencker oc betracter huad siunis eder monne her icke fi\n",
      "n for den gode hyrde at leyesuenne betracter gudeligen huad for advarsel eders \n",
      "s er siddinde hos guds høyre haand betracter de ting som ere offuen til oc icke\n",
      "gist paa legem oc siel evindeligen betracter eders frelseris jesv christi suar \n",
      "ue baade legem oc siælen i helfuee betracter den store nytte oc gafn guds fryct\n",
      "s er siddende hos guds høyre haand betracter de ting som ere offuen til icke de\n",
      "iddende hos gvd faders høyre haand betracter de ting som ere offuen til icke de\n",
      "ende effterfølger s povel sigendis betracter de ting som ere offuen til oc icke\n",
      "a de døde opstanden huo dette icke betracter huo hereffter sig icke forholder h\n",
      "met tulbørlig i hiertens bevegelse betracter huorledis gvds vrede saaledis haff\n",
      "nu for den forfærdeliget vantro oc betracter huilcken en gruelig synd det er ic\n",
      " tilforn oc det skal betalis igien betracter oc betæncker j menniske som icke v\n",
      "d streng oc umild det betæncker oc betracter david sigende udi psalmen salig er\n",
      " saare flittig til gode gierninger betracter oc betencker huorfor gud hafuer ve\n",
      "olde med som dette at nd gudeligen betracter oc betencker at hand icke skal fue\n",
      "cke der talis om mishaet med flijd betracter huad her oc andre k teder tilleagi\n",
      "n sundhed oc helbred igie saaledis betracter den gvds mand moses sot siugdom oc\n"
     ]
    }
   ],
   "source": [
    "for word in set(lst):\n",
    "    corpus_nltk.concordance(word)"
   ]
  },
  {
   "cell_type": "code",
   "execution_count": 12,
   "id": "fdad6e42",
   "metadata": {
    "collapsed": true
   },
   "outputs": [
    {
     "name": "stdout",
     "output_type": "stream",
     "text": [
      "Displaying 50 of 97 matches:\n",
      "me oc haffuer ingen lyst til blod aff øren sam oc bucke min siæl hadede eders ny maaneder eders beslempte høylider jeg e\n",
      "o saaledis skreffuet om jesu udi psalmen du lelder icke min siæl bliffue i helffuede oc ey heller tilsteden at din helli\n",
      "vil jeg selff derfore raffe mig oc sijge veedst du icke min siæl at guds helge naade er aabenbaret for dig at du skalt f\n",
      "gud oc fra min herre jesu christo da vil jeg sige tænck min siæl paa den herlighed der skal aabenbaris udi dig kunde du \n",
      " derhos men jeg kallede paa herrens naffn o herre frels min siæl herren er naadig oc barmhierlig herien bevarer de enfol\n",
      "e enfoldige naar jeg er undertryckt da hielper hand mig min siæl vær nu tilfreds igien thi herren giør vel mod dig thi d\n",
      "ilfreds igien thi herren giør vel mod dig thi du ryckte min siæl fra døden mit øye fra graad min fod fra skrud jeg vil v\n",
      "enere som jeg haffuer udvald min elskelige til huilcken min siæl haffuer behagelighed jeg vil sætte min aand paa hannem \n",
      "skal oc mit kiød huile i haab thi du skalt icke forlade min siæl i helffuede jcke heller tilstæde din hellige at see for\n",
      "al fuldkommis som dig er sagt aff herren oc maria sagde min siæl ophøyer herren oc min aand glæder sig udi gud min frels\n",
      "evist saaledis taler der om evangelisten oc maria sagde min siæl ophøyer herren oc min aand glæder sig i gud min frelser\n",
      " siugdom herre siger hand du haffuer kierligen annammit min siæl fra fordærffuelsens graff thi du kaste mine synder bag \n",
      "ig oc evig gode sige huer aff inderste hierle med maria min siæl ophøyer herren oc min aand glæder sig i gvd min frelser\n",
      "phøyer herren oc min aand glæder sig i gvd min frelsere min siæl tenck du der paa fornemneligen oc detfor aff gandske fo\n",
      "dner hand selff sigendis græd jeg icke i den haarde tid min siæl ynckedis offuer den arme huor giorde det jesu ont der h\n",
      "ngribis siger hand icke væmodelig vendt dig herre redde min siæl hielp mig for din barmhierligheds skyld thi mand tencke\n",
      "l jorden oc maa sige med david mine been ere forførdede min siæl er meget forfærdet jeg er træt aff suck min skickelse e\n",
      "t viste david saa saare vel oc erfor siger til sin siæl min siæl loffue herren oc huad i mig er hans hellige naffn min s\n",
      " siæl loffue herren oc huad i mig er hans hellige naffn min siæl lofue herren oc glem icke det gode som hand haffuer gio\n",
      "a skee dem aff herren som ere imod mig oc tale ont imod min siæl slunge icke saa de hellige i aabenbaringen saligheden o\n",
      " alle mennisker baade leffuende oc døde huad siunis dig min siæl monne det nu være tid at opstaa aff søffne monne det ic\n",
      "ns søn kommer huad vilt du nu være døffnactig oc søffne min siæl giff act paa dend tid udi huilcken du leffuer du haffue\n",
      "ger er en død tro oc icke en leffuende tro at du derfor min siæl kand sigis at være opstanden aff søffne oc haffue dend \n",
      "e en tom oc udslucket men en brendende lampe da giør du min siæl som din frelsere christus raader sigendis lader eders l\n",
      "nger oc prise eders fader som er i himmelen giør du det min siæl da hafuer du ret i act guds aands befalning som saaledi\n",
      "ige icke om de wvise men som de vise der til bevege dig min siæl at din salighed er dig nermere end der du troede de løf\n",
      "pred offuer all verden nu staar intet tilbage end at du min siæl huer dag venter din salighed oc troer at den nu er nærm\n",
      "som bode i dødsens skugges dall glæd dig udi dette lius min siæl oc vandre effter det tenck paa det rette lius den herre\n",
      "ig giør regenskab for din huusholdning da siger jeg til min siæl vær trøstig min siæl see her er din konge som kommer di\n",
      " din huusholdning da siger jeg til min siæl vær trøstig min siæl see her er din konge som kommer dig sactmodig est du en\n",
      "æder ja end all verden dersom jeg skulle lide skade paa min siæl oc hui skulle jeg være wvillig til at tiene christo med\n",
      "c barmhiertig gud oc fortryder det onde oc nu herre tag min siæl fra mig thi jeg vil heller være død end leffue haffue s\n",
      "di glæde mig jeg vil sige oc siunge med david i psalmen min siæl loffue herren oc huad i mig er hans hellige naffn min s\n",
      " siæl loffue herren oc huad i mig er hans hellige naffn min siæl loffue herren oc forglem icke det gode som hand hafuer \n",
      " vil loffue herren hans loff skal altid være i min mund min siæl skal rose sig i herren at de ælendige skulle høre det o\n",
      " grøn eng oc leder mig til ferske vand hand vederqueger min siæl hand leder mig paa ret vey for sit naffns skyld oc om j\n",
      " formanelse med tacksigelse for gud vær icke mistrøstig min siæl om der handlis wmildelig med dig fortryd icke om dig en\n",
      "elig helbrede mig herre thi mine been ere forferdede oc min siæl er meget forferdet ab du herre huor lenge jeg er saa tr\n",
      "g haffuer loffuet dig at jeg vi tacke da thi du frelste min siæl fra døden min fødder fra fald at jeg maae vandre for gv\n",
      " forbandet er huer den som henger paa kaarsens træ naar min siæl vil sige til mig du est diefuelens tienere oc træl thi \n",
      "jesum der hand siunger i psalmen jeg bier effter herren min siæl bier oc jeg haabis til hans ord min siæl vocter effter \n",
      " effter herren min siæl bier oc jeg haabis til hans ord min siæl vocter effter herren fra en morgens vact til en anden j\n",
      "uad esaias siger jeg vil glæde mig hierteligen i herren min siæl skal fryde sig i min gud thi hand førde wie i saligheds\n",
      " med ald billighed sige oc siunge med david udi psalmen min siæl loffue herren oc mad som i mig er hans hellige naffn mi\n",
      "æl loffue herren oc mad som i mig er hans hellige naffn min siæl goffue herren oc forglem icke det gode som and haffuer \n",
      "u i gode guds børn maa icke huer aff eder billigen sige min siæl loffue herren oc huad som i mig er hans hellige naffn m\n",
      "l loffue herren oc huad som i mig er hans hellige naffn min siæl loffue herren oc forglem icke det gode hand haffuer gio\n",
      "eder icke aarsag til at loffue herren med david oc sige min siæl loffue herren oc huad som i mig er hans hellige naffn m\n",
      "l loffue herren oc huad som i mig er hans hellige naffn min siæl loffue herren oc forglem icke det gode som hand haffuer\n",
      "elig helbrede mig herre thi mine been ere forfærdede oc min siæl er meget forfærdet ah du herre huor lenge vendt dig her\n"
     ]
    }
   ],
   "source": [
    "corpus_nltk.concordance(['min','siæl'],120,50)"
   ]
  },
  {
   "cell_type": "code",
   "execution_count": 13,
   "id": "271a50f4",
   "metadata": {
    "collapsed": true
   },
   "outputs": [
    {
     "name": "stdout",
     "output_type": "stream",
     "text": [
      "i det de haffuer mist \u001b[1mjesu\u001b[0m \u001b[1mlærdom\u001b[0m oc huad gode oc glæde vi hedninge haffue bekommet i det vi ere udi deris sted antagne til det hellige evangelij kundskab da giffuer act paa huad apostelen eder her om merceng lærer hand siger at jesu prædicken som jøderne foractede den haffde gud send til dem huad siums eder monne gud haffue \n",
      "\n",
      "icke bliffue hijesum oc hos \u001b[1mjesu\u001b[0m \u001b[1mlærdom\u001b[0m giffuer act paa huordi jesus hand er oc der aff tager aarsage ubevegeligen henge ved jesum saa siger guds aand i voris afflectie om jesu hand drog omkring oc giorvel oc helbredede alle som vaare offu faldne aff dieffuelen thi gud vaar iu hannem huad kand være os som tro paa jesum steligere \n",
      "\n",
      "tage det aff den herris \u001b[1mjesu\u001b[0m \u001b[1mlærdom\u001b[0m oc forkynde dig prøff du derfore huer aand ved jesu hellige lærdom oc slut denne lærdom som jeg finder angiffuen aff jesu vil jeg bliffue ved ved den vil jeg leffue ved den vil jeg dø thi der aff veed jeg at det er den hellig aands lærdom fordi den er tagen altsammen \n",
      "\n",
      "der paa arbeydede huor ledis \u001b[1mjesu\u001b[0m \u001b[1mlærdom\u001b[0m kunde gandske udryddis oc med rodopryckis saa er dog jesus saa god at hand vil at hands apostle effter hans himmelfart skulle her fortøffue her begynde deris prædicken om jesu her først predicke se ligheds vey til it vidnysbyrd sant at være som skreffnet staar gud vill at alle menniske skulle bliffue salige \n",
      "\n",
      "verden sette sig op imod \u001b[1mjesu\u001b[0m \u001b[1mlærdom\u001b[0m det hielper intet den helsig aands vidnisbyrd gaar dette altsammen offuer see mig til den gode simeonem huor den hellig aand vidner som jesu der hand faar hannem paa sine arme siger hand icke oc siunger met glæde opfylt aff den hellig aand herre lad nu din tienere fare i fred ihi mine \n",
      "\n",
      "dem hen i fengsel der \u001b[1mjesu\u001b[0m \u001b[1mlærdom\u001b[0m icke maa haffue rom udi jerusalem saa mager gvd det saa at samaria annammer den salige lærdom om jesu christo thi guds aand formelder at der philippus prædickede for dem i samaria christum da gaffue de samdretteligen act paa de ting som sagdis aff philippo i det de hørde oc saa de tegn \n",
      "\n",
      "saadan kierlighed til jesum oc \u001b[1mjesu\u001b[0m \u001b[1mlærdom\u001b[0m at der hendis søster martha tager husens gierninger vare da setter hun sig ned hos jesu føder oc hører hans prædicken oc der udoffuer faar aff jesu denne høye berømmelse maria haffuer udvald den gode part som icke skal tagls fra hende huo vil nu necte at jesus her anstiller sig som den \n",
      "\n",
      "hans udi aabenbaringen den herris \u001b[1mjesu\u001b[0m \u001b[1mlærdom\u001b[0m med disse ord der gick it tuteget suerd aff hans mund truer icke den herre jesus selff saaledis menighedens engel udi pergams omvende dig men skeer det icke da kommer jeg snart til dig oc vil stride imod dem med min munds suerd oc huo vil benecte at jesu lærdom jo haffuer været \n",
      "\n",
      "oc huo vil benecte at \u001b[1mjesu\u001b[0m \u001b[1mlærdom\u001b[0m jo haffuer været som it skarpt suerd enten hand truede de vgudelige oc haarnackede eller oc hand trøstede de bange oc bedrøffuede oc bodfærdige der jesus hand oplæszde disse ord aff propheten esaia i synagogen herrens aand er offuer mig derfor salsuede hand mig hand sende mig at kundgiøre evangelisum for de fattige \n",
      "\n",
      "legge sig effter at dempe \u001b[1mjesu\u001b[0m \u001b[1mlærdom\u001b[0m da setter jesus imod all saadan baade forargelse oc hinder guds haands mact ved huilcken jesus skulde udi all modstand saaledis beteckis at ingen enten tredskhed eller mact skulle kunde skade jesum det giffuer jesus tilkiende hos voris prophete med disse ord hand haffuer skiulmig met sin haands skygge staar der icke at \n",
      "\n",
      "som holde eder hierteligen ti \u001b[1mjesu\u001b[0m \u001b[1mlærdom\u001b[0m oc paa den i liff oc død eder forlade j skulle finde udi hu oc hierte sant at være det som davld siger oc siunger i psalmen den som sidder under den høyestis beskiermelse oc bliffuer under den aldmectigstis skygge hand siger til herren min tillijd oc mit slot min gud paa den \n",
      "\n",
      "oploed os kkriffterne er icke \u001b[1mjesu\u001b[0m \u001b[1mlærdom\u001b[0m som en skarp oc reen piil der saaledis trrcker oc trenger sig igiennem phariteernis tieneris siæle at de sige der haffuer aldrig nøget menniske taled som dedes menniske huilcken en eeen pijl er jesu tule udi s povels hierte der hand paa veyen siger til hannem saul saul hui forfølger vu mig saaris \n",
      "\n",
      "huor lidet bleffue de aff \u001b[1mjesu\u001b[0m \u001b[1mlærdom\u001b[0m forbedrede derjesus predickede i nazareth om guds naade som ved hannem skulde bevilsis staar der icke at alle desom vaare i synagogen bleffue vrede oc stode op oc støtte hannen ud aff sladen oc førde hannem paa det høyøste aff bierget paa huilcked deris stad vaar bygd at styrte hannem med holde icke \n",
      "\n",
      "hannem med holde icke phariseerne \u001b[1mjesu\u001b[0m \u001b[1mlærdom\u001b[0m saa ringe oc saa foractelig at de sige monne der nogen aff de øffuerste haffue troed paa hannem eller aff phariseerne men dette folck som icke kiende lowen de ere forbandede ere jøderne icke saa wforskammede at de taar understaa sig at sige om jesu hand driffuer dieffle ud ved den ypperste dieffuet \n",
      "\n",
      "at ingen skulle tencke at \u001b[1mjesu\u001b[0m \u001b[1mlærdom\u001b[0m vaar billigen forskiøt da setter propheten hos at jesu sag er herrens sag oc jesu embede er hans guds embede haffde jo gud ladet sige ved mosen om den herre jesu oc hans embede herren eders gud skal opvecke eder en prophete aff eders brødre som mig den skulle j høre effter alt \n",
      "\n",
      "hiertens glæde annamme den herris \u001b[1mjesu\u001b[0m \u001b[1mlærdom\u001b[0m effterfølgendis apoftfs ene til huilcke der jesus sagde monne j oc ville gaa bort fra mig da suarer peder paa allis deris vegne here huem skulle vi gaa hen til du hafuer det evige liff ord oc vi haffue troed oc forstaaad det at du est christus den leffuende guds søn paa det \n",
      "\n",
      "haffuer icke roset mig aff \u001b[1mjesu\u001b[0m \u001b[1mlærdom\u001b[0m blod eller fortieniste oc dog haffuer jeg leffuit effter lowen udvortis wstraffelig skal jeg da udluckis aff himmerige oc fra guds ansict forskiudis evindeligen er det da billigt at denne skal indkomme udi det evige liff som haffuer kiendt christi lærdom som hafuer annammit christum for sin frelsere som haffuer loffuet at hand \n",
      "\n",
      "præster til den blinde der \u001b[1mjesu\u001b[0m \u001b[1mlærdom\u001b[0m aff hannem kosis oc berømmis du est hans diselpel men vi ere mosis disciple vi vide at gvd haffuer talet med mose men denne vide vi icke huordan hand er saa ere da disse faare klæder med huilcke de sig skiule disse falske propheter at de forvende oc angiffue at de ere udsende \n",
      "\n",
      "hans hellige lærdom monne derfor \u001b[1mjesu\u001b[0m \u001b[1mlærdom\u001b[0m bliffue ude jesus haffuer engang sagt helffuedis porte skulle icke formaa sig mod denne lærdom der paa haffue vi her klart vidnesbyrd der christus hand opstaar fra de døde oc ingen tæncker eller troer at jer skildt være nogen som vilde kiende sig til jesu lærdom see da ere her endnu fom hundrede \n",
      "\n",
      "som vilde kiende sig til \u001b[1mjesu\u001b[0m \u001b[1mlærdom\u001b[0m see da ere her endnu fom hundrede brødre oc sande jesu christi disciple for huilcke chaskue sig uadenbarer oc bøyiser sig at værr opstarden huad siunis eder mønne christi lærdom ved forfølgelse kunde undertrædis ere her jo flere christi tilhengere effter døden end for døden sea heder det da aff psalmen naar menniskene \n",
      "\n",
      "de forholt sig tuert imod \u001b[1mjesu\u001b[0m \u001b[1mlærdom\u001b[0m monne jesus ville kiende saadanne paa den dag for sine saa skal jesus suare dennem jeg kiende eder aldrig viger alle fra mig som giøre syndmonne der icke udi s povels tid hafue været de som vilde baade tiene gud oc synden huilcke s povel paa det iffuerligste straffer sigendis huad deelactighed hafuer \n",
      "\n",
      "j som bade den sande \u001b[1mjesu\u001b[0m \u001b[1mlærdom\u001b[0m see j ere diefuelens oc den gamle hugorms engle siger icke christus til jøderne j ere aff faderen dieffuelen oc j ville giøre eders faders begæringer hand vaar en mordere aff begyndelse oc bleff icke bestandig i sandhed thi sandhed er icke i hannem siger icke s hans hu som giør synden hand \n",
      "\n",
      "lætte sig imod jesum oc \u001b[1mjesu\u001b[0m \u001b[1mlærdom\u001b[0m det vaar lo en offuerste for spnagogen som sagde til jesum der hand helbredede om sabbathen der ere joser dage om vgen paa huilcke mand ber at helbrede kommer derfor paa de samme oc lader eder helbrede oc icke om sabbathen sige icke de ofuerste for synagogen om jess monne der nogen aff \n",
      "\n",
      "huo der kiendi sig til \u001b[1mjesu\u001b[0m \u001b[1mlærdom\u001b[0m de skulde som et bands menniske ære udtluckt aff synagogen oc forsamlingen men see uor underligen gud kand alting forandre hand veed i omvende sine flenders hierter maa icke nu denne hfuerste søge til jesum oc falde ted for hannem luis som ocsaa haffuer denne historle beskreffuen beretter i hand haffde ickun en \n",
      "\n",
      "dræbte dennem som bekiendte til \u001b[1mjesu\u001b[0m \u001b[1mlærdom\u001b[0m monne saadant bleffuet ustraffet der kom igies ofuer jederne effter christi spaar om tadan bedrøffuelse som der icke haffuer deret offuer jeterne fra verdens begynde hid indtil oc som icke skal bliffue vel hafi jøderne offte værit baardeligen plaget nu udi ægypen nu udi babylon nu udi andre stæder men de ere og \n",
      "\n",
      "maria den wtuctige quinde ved \u001b[1mjesu\u001b[0m \u001b[1mlærdom\u001b[0m at hun affstaar all wtuct leffuer siden it tuctigt lefnet elsker gud oc jesum offuer alle ting saa snart zich eus den gierige toldere hand kommer udi jesu omgengelse forlader hand sin gierighed lader aff at udsue sin næste bliffuer gaffuemild imod sin fattige næste oc siger see herre halfdeelen aff mit gods \n",
      "\n",
      "den kraft som findis udi \u001b[1mjesu\u001b[0m \u001b[1mlærdom\u001b[0m huilcken christus selff saaledis taler til jøderne sang sandelig jeg siger eder dersom nogen holder mit hand skal icke see døden evindeligen oc paa det s ers tilhørere kunde være dis vissere paa den lærdoms ndhed som de hafue hørt aff s peder da siger hand nem at det hand hafuer selff seet \n",
      "\n",
      "du med dit blod maa \u001b[1mjesu\u001b[0m \u001b[1mlærdom\u001b[0m bekreffte oc besegle saa skal endda jesus være dig en jesus oc frelsere tenck paa jesu ord frycter eder icke for dem som ihielpaae legeme men kunde icke ihestale siælen meycter eder heller for den som kand forderffue baade egemet oc siæl udi helfuede tenck paa jesu trøst taledis liudendis huo som mig \n",
      "\n",
      "siel holder eder ickun til \u001b[1mjesu\u001b[0m \u001b[1mlærdom\u001b[0m saa skal jesus igien holde sig til eder at hielpe eder aff ald den nød som j kunde ifalde enten paa legem eller paa siæl giører j som folcket giorde om huilcket her staar der jesus gick ned aff bierget fulde der meget folck effter hannem stiger op med hue oc hierte paa \n",
      "\n",
      "herlig oc hellig lære dom \u001b[1mjesu\u001b[0m \u001b[1mlærdom\u001b[0m den er saa skeer det dog dis verreundertiden at et meniske saa bedragis af diefuelen at hand aff modvillig ondskab forhaaner oc bespotter jesu christi lærdom som hand udi hu oc hierte bekiender at være saadan en lærdom som alleene kand føre til salighed om saadanne mennisker taler guds aand udi epistelen til \n",
      "\n",
      "leffnet skaae oc skicke at \u001b[1mjesu\u001b[0m \u001b[1mlærdom\u001b[0m er den ene saliggiørendis lærdom det giffuer evangelisten saaledis ilklende jesus dref en diefuel ud hand vaar dum oc det skeede der dieffuelen foer ud da talede den dumme oc folcket forundrede sig huad ville j tuiffle om jesu lærdom er den ene laliggiørende lærdom der aff see jjo at jesus er den \n",
      "\n",
      "huad ville j tuiffle om \u001b[1mjesu\u001b[0m \u001b[1mlærdom\u001b[0m er den ene laliggiørende lærdom der aff see jjo at jesus er den rette verdens forlofuede saliggiørere oc at hans lærdom er den lærdom som ene tiener til salighed at der er lingen ting saa vanskelig oc wmuelig at den kand jo ved jesum oc hans lærdom lætteligen forrettis huad kand være vanskeligere \n",
      "\n",
      "dieffuelen gaar til jesum oc \u001b[1mjesu\u001b[0m \u001b[1mlærdom\u001b[0m oc j skulle bliffue hannem qvit hører huad jesus sagde til sine disciple som hannem annammede oc hans lærdom helbreder de siuge renser de spedalske opvecker de døde vddriffuer diffle hører huad jesus hand loffuer dennem som trot paa hannem de tegn siger jesus som skulle følge dennem som trg paa mig ere \n",
      "\n",
      "i christo oc i christi \u001b[1mjesu\u001b[0m \u001b[1mlærdom\u001b[0m huo vil icke med folcket forundre sig paa christi ordis krafft aldrig er dieffuelen saa mæctig hand maa jo vilge for jesu christo oc for hans lærdom acter mig paa det menniske om huilcket der staar saaledis udi evangelio der møtte jesu et menniske som kom aff de dødis graffuer med en wreen \n",
      "\n",
      "til eders frelsere oc haffue \u001b[1mjesu\u001b[0m \u001b[1mlærdom\u001b[0m oc forundrer eder offuer jesu lærdoms krafft tiener oc tacker gud for saadan naade oc sige huer aff eder med forundring om jesu hand haffuer giort alting vel de døffue giorde hand hørendis oc de maalløse talende bort bort j som bespotte jesum oc sige hand driffuer dieffle ud ved belzebub den øffuerste \n",
      "\n",
      "dennem som icke ville annamme \u001b[1mjesu\u001b[0m \u001b[1mlærdom\u001b[0m for en guddommelig lærdom men j som ere saa vijt henkomne udi eders hierters haardhed at j mod eders samvittigheds vidnisbyrd understaa eder offentlig at udgrobe jesu lærdom for en diefuels lærdom oc skammer eder icke ved at sige at jesus uddriffuer dieffle ved den øffuerste dieffuel beelzebub hører huad jesus suarer eder \n",
      "\n",
      "understaa eder offentlig at udgrobe \u001b[1mjesu\u001b[0m \u001b[1mlærdom\u001b[0m for en diefuels lærdom oc skammer eder icke ved at sige at jesus uddriffuer dieffle ved den øffuerste dieffuel beelzebub hører huad jesus suarer eder saa siger evangelisten da fornam hand deris tancker oc sagde til de nee det er aldrig værd at nogen ville skiule sine tancker for jesu saa siger s \n",
      "\n",
      "udi eders hierte ilde om \u001b[1mjesu\u001b[0m \u001b[1mlærdom\u001b[0m oc sige hos eder selff at jesus uddriffuer dieffle ved den øffuerste dieffuet beelzebub huert rige siger jesus som vorder weens med sig selff bliffuer øde oc it huus falder offuer det andet er da saianas reens med sig selff huorledis kand hans rige bliffue bestandigt acter paa jesu lærdom oc paa dieffuelens \n",
      "\n",
      "rige bliffue bestandigt acter paa \u001b[1mjesu\u001b[0m \u001b[1mlærdom\u001b[0m oc paa dieffuelens lærdom oc strax skulle i lettelig eracte at jesus icke uddrifue diefle ved beelzebub den ofuerste diefuel monne jesus med sin lærdom icke alleene der paa driffue at j ingen anden skulle tiene tacke ære paakalde uden alleene den gud som skabte himmelen oc jorden hører huad jesus siger udi \n",
      "\n",
      "om jesu oc bestaar at \u001b[1mjesu\u001b[0m \u001b[1mlærdom\u001b[0m er aff gud oc at jesus giører sine mirackler ved guds finger til hannem er guds rige kommet saa giorde sin bekiendelse om christo nitodemus sigendis mestere vi vijde du est en lærere kommen aff gud thi ingen kand giøre de tegn som du giør uden gud er med hannem huo der hafuer \n",
      "\n",
      "mennisker som haffuer engana sinaget \u001b[1mjesu\u001b[0m \u001b[1mlærdom\u001b[0m oc er ved jesu lærdoms kraft engang befrjede fra diefuelens vold oc mact høret huad straf eder ofuerhenger dersom j paa ny igien modvilligen falde fra den herre jesu oc giører eder atlet igien til syndsens trælle saa siger til eder jesus naar den onde aand udfar aff mennisket da vandrer hand igiennem \n",
      "\n",
      "j som engang ere ved \u001b[1mjesu\u001b[0m \u001b[1mlærdom\u001b[0m blefuen qvit ved dieffuelen at j haffue nu intet ydermeere at befrycte eder for hannem j skulle være visse paa at j som haffue kiendt jesum christum oc ere ved hans hellige blod engang afftoet aff eders synder at huis begynde at foracte jesum oc modvilligen at henfalde i synd oc ondskab at \n",
      "\n",
      "paa ferde huorsom jesus oc \u001b[1mjesu\u001b[0m \u001b[1mlærdom\u001b[0m oc jesu blod modivilligen oc indtil enden foractis hører huad jesus siger udi evangelio ald synd oc bespottelse skal forladis menniskene men bespottelse mod aanden skal icke forladis menniskene oc huo som taler noget mod menniskens søn det skal forladis hannem men huo som taler noget mod den hellig aand hannem skal det \n",
      "\n"
     ]
    }
   ],
   "source": [
    "corpus_test = corpus_clean.split()\n",
    "words = ['jesu','lærdom']\n",
    "\n",
    "for i in range(len(corpus_test)):\n",
    "    if corpus_test[i:i+len(words)] == words:\n",
    "        for x in range(i-5,i+55):\n",
    "            if x in range(i,i+len(words)):\n",
    "                print('\\033[1m'+corpus_test[x]+'\\033[0m',end=' ')\n",
    "            else:\n",
    "                print(corpus_test[x],end=' ')            \n",
    "        print('\\n')"
   ]
  },
  {
   "cell_type": "code",
   "execution_count": 53,
   "id": "47060da2",
   "metadata": {},
   "outputs": [
    {
     "name": "stdout",
     "output_type": "stream",
     "text": [
      "Displaying 1 of 1 matches:\n",
      " de maa udi forlølgelhens tud blifuer sandheds læedom bestandige til vor herris jesu christi fader d\n"
     ]
    }
   ],
   "source": [
    "corpus_nltk.concordance('læedom',100,200)"
   ]
  },
  {
   "cell_type": "code",
   "execution_count": 15,
   "id": "af7f3ac6",
   "metadata": {
    "collapsed": true
   },
   "outputs": [
    {
     "name": "stdout",
     "output_type": "stream",
     "text": [
      "Displaying 58 of 58 matches:\n",
      "en troes artickel om jesu christi opstandelse fatte oc forstaa thi der christus sagde at hand skulle\n",
      "e guds børn at j saadan fornøden lærdom kande fatte oc forstaa oc der effter eder forholde saa siger\n",
      "aadant kand j aldrig bedre oc vissere lære at fatte oc forstaa end at j ideligen oc med tilbørlig an\n",
      "d oplader voris forstand paa det vi kunde rer fatte oc forstaa det som udi gvds ord om hannem er and\n",
      "skal prædickis at j skulle med stadig tillijd fatte oc faffne i hiertet jesum christum som er død fo\n",
      "ere saa mørcke at hand oc de andre icke minde fatte oc forstaa dennem thi der christus siger til nsc\n",
      "cke kand begrijbe oc icke med fornufften kand fatte oc dog det aff hiertet troer du est salig vær vi\n",
      "huer guds barn diszdedre oc grundeligere kand fatte oc forstaa huorledis den rette hyrde christus el\n",
      " til oc apostlerne kunde icke udi begyndelsen fatte oc forstaa huorledis hedningene skulle ocsaa kom\n",
      "ren mercker paa ordene saa skull j letteligen fatte oc forstaa udi huad meening eders jesus hand sig\n",
      "uer nu act paa huorlede christi disciple icke fatte oc forstaa denne tale om jeffbortgang til fadere\n",
      " christus om dette som de beklage sig icke at fatte oc forstaa til oc offte haffuer baade phariseern\n",
      "ryctigis endeligt jeg kunde icke siger davidt fatte oc forstaa huorledis gud vaar retferdig som plag\n",
      "r dag skal nu voris hierte være beguem til at fatte oc faa nogen god oc fuldkommen gaffue her offuen\n",
      "d skal icke ancke det mindste paa mig jeg vil fatte oc fauffne jesum med salig oc stadig tro jeg vil\n",
      "fuer bekiend din egen elendighed saa skalt du fatte oc sauffne jesum udi hu oc hierte vijse gvd udi \n",
      "undervijser mig lærer j guds børn at vil le j fatte oc forstaa gvds ord eder til salig nytte oc gaff\n",
      "fuer act paa huor seent ferdige vi ere til at fatte oc forstaa det som hører gud oc guds rige til ha\n",
      " embede see mig hen til apolene huor lidet de fatte oc forstaa om gvds rige naar e icke raadis aff g\n",
      "t oc paa det du guds barn kand endnu disbedre fatte oc orstaa huad det hellige evangelium oc glædeli\n",
      "fuer faaet aff gvd viszdom oc forstand til at fatte oc forstaa sager oc at giøre skilszmnisse imelle\n",
      "en er større end i hand huo kand icke nu acte fatte oc forstaa huorfor re jesus hand siger sig at vi\n",
      "prædicken oc opladen hiertens dør at de kunde fatte oc forstaa ordet oc aff ordet bekomme troen oc s\n",
      " vijde dette at tro dette udi hu oc hierte at fatte oc føle det er den gvds vijszdoms rigdom det er \n",
      "mme af sine liggendefeffterdi da j icke kunde fatte oc forstaa huorfra værkommer oc huor det gaar he\n",
      " vi klarligen udi nicodemo huilcken icke kand fatte oc forstaa huis jesus taler om jgienfødelsen for\n",
      "den lærdom om jgienfødelsen du derfor som vil fatte oc forstaa huis dig til salighed oc det evige li\n",
      " guds hemmeligheder dig til salighed fornøden fatte oc forstaa lær aff christo huad du skalt giøre a\n",
      "t saadane fornufften langt offuergaaende kand fatte oc forstaa saa taler til nitodemum hor hørre jes\n",
      "jeg hører tale om guds rige det kand jeg icke fatte oc forstaa det komer mig gandske urimeligt for s\n",
      "rtabis men haffue det evige liff dette ret at fatte oc til salighed at forstaa da trin frem oc sijg \n",
      "ge intet hiertkand den nocksom udi dette liff fatte oc forstaa vi ville i cke hid føre alt det som g\n",
      " til exempel at effterfølge saa kande j strax fatte oc forstaa at de brødre som vi skulle lade liffu\n",
      "er paa det som aandeligt er de kunde det icke fatte oc forstaa saa forundre jøderne sig offuer jesu \n",
      "r ved apostelen fremsætter enddog vi den icke fatte oc forstaa sijg mig huorledis himlene kund høre \n",
      "ff sig føder nemlig det evige liff saadant at fatte oc forstaa kommer de kladelige mennisker vanskel\n",
      "ndsætning fordi du med din fornufft icke kand fatte oc forstaa huorledis du kandst hielpis seer mig \n",
      "hed oc hellighed paa det nu at kand dis bedre fatte oc forstaa huad det er at aflegge gamle menniske\n",
      "unde offuersktugge nogle aff dem huo kand det fatte oc forstaa at naar de hente suedekuge oc haandkl\n",
      " eders siæle oc alle eders krafter at i kunde fatte oc forstaae disse tegn oc til denne dag paa huil\n",
      "ribe thi huorledis kandst du met din forstand fatte oc forstaa huorledis heren vaager ofuer dig huor\n",
      "erdslige lyst aabne nu huer hierte oc aand at fatte oc forstaae disse ord verd i liff oc død at ihuk\n",
      "ans domme oc hans veye wsporlige thi huo kand fatte oc forstaa huor det gaar til at de som allermest\n",
      "e her du gvds barn huor lidet vi aff os selff fatte oc forstaae guds oe jesu ord naar vi icke med bø\n",
      " sig roser hand rose sig i herren saaledis at fatte oc inderligen forvare jesum i hue oc hierte det \n",
      "dder bevijste sin inderlig tillijd til hanimn fatte oc sauffne du jesum udi hu oc hierte sijg jeg er\n",
      "o saaledis er sindet hand er rede til at høre fatte oc annamme det herlige oc hellige evangilium men\n",
      "ighed end at j kunde dagligen it ders hierter fatte oc saffne jesum christum huilen som er guds rett\n",
      "r saa vil jeg da gaae til dig jesu oc jeg vil fatte oc faffne dig oc sige til dig jesu det er din he\n",
      "n frelseris ted en ting er fornøden som er at fatte oc faffne esum oc gifue act paa hans tale det er\n",
      "yld at alle som dette ord høre det icke kunde fatte oc forstaae menne christus fremsætte himmerigis \n",
      "ldrig værit guds vilie at de skulle nogen tid fatte oc forstaae ordet oc der aff haffue nogen gafn b\n",
      "emsætte oc forkynde paa det at alle kunde det fatte oc forstaa siger icke david om guds ord dit ord \n",
      "eene høre guds ord men endocsaa det til affns fatte oc forstaae at gud haffuer fornemmeliren derfor \n",
      "gste oc høyeste gud mand s hans hand kand den fatte oc forstaa thi guds aand udtryckeligen formelder\n",
      "ehagelighed oc paa det j endnu disbedre kunde fatte oc forstaa tat jesus er den elskelige guds søn t\n",
      "a magdalena giorde sæt dig ned hos jesu føder fatte oc fafne jesum med stadig tro kysse hannem væde \n",
      " førske testamente gack nu lige hen til jesum fatte oc faffne hans blodige saar udi hu oc hierteraab\n"
     ]
    }
   ],
   "source": [
    "corpus_nltk.concordance(['fatte','oc'],100,200)"
   ]
  },
  {
   "cell_type": "code",
   "execution_count": 25,
   "id": "30073766",
   "metadata": {},
   "outputs": [
    {
     "name": "stdout",
     "output_type": "stream",
     "text": [
      "ord blod gud naffn død retfærdighed rige ære christo tale kierlighed\n",
      "tienere tro dag aand naade haand legeme herlighed fader\n"
     ]
    }
   ],
   "source": [
    "corpus_nltk.similar('lærdom')"
   ]
  },
  {
   "cell_type": "code",
   "execution_count": 17,
   "id": "208b6da9",
   "metadata": {},
   "outputs": [
    {
     "name": "stdout",
     "output_type": "stream",
     "text": [
      "den_om den_som en_som til_til christi_oc saadan_som denne_som udi_oc\n",
      "i_oc til_oc den_hand oc_som hans_at jesu_aff den_til all_oc min_skal\n",
      "den_oc udi_hand en_det\n"
     ]
    }
   ],
   "source": [
    "corpus_nltk.common_contexts(['lærdom','kierlighed'])"
   ]
  },
  {
   "cell_type": "code",
   "execution_count": 18,
   "id": "63866477",
   "metadata": {},
   "outputs": [
    {
     "name": "stdout",
     "output_type": "stream",
     "text": [
      "Displaying 9 of 9 matches:\n",
      "g udi de onde begierligheder som verdens børn legge sig effter være langt fra \n",
      "inggiffue hans siæl oc huorledis verdens børn forfølge hannem da sætter hand i\n",
      "hand giorde snildelige thi denne verdens børn ere klogere end liusens børn i d\n",
      "hand giorde snldeligen thi denne verdens børn ere klogere end liusens børn der\n",
      "et udi disse ord forfattet denne verdens børn ere klogere udi deris slect end \n",
      "er icke rin aarsag sagd at denne verdens børn ere klore end liusens børn udi d\n",
      "digt hierte som følger verden oc verdens børn jeg vil tencke paa jesu ord huo \n",
      "ryggelige løfte hører huab denle verdens børn i nødens oc trangens tijd pleye \n",
      "m den wretfo dige husfoget denne verdens børn ere klog end liusens børn i deri\n"
     ]
    }
   ],
   "source": [
    "corpus_nltk.concordance(['verdens','børn'])"
   ]
  },
  {
   "cell_type": "code",
   "execution_count": 19,
   "id": "11c55500",
   "metadata": {},
   "outputs": [
    {
     "name": "stdout",
     "output_type": "stream",
     "text": [
      "betractende 2\n",
      "affte 1\n",
      "afftenleelie 1\n",
      "afftens 6\n",
      "afftenlecte 1\n",
      "afftencker 1\n",
      "betract 2\n",
      "betractning 3\n",
      "betractendis 1\n",
      "afften 19\n",
      "affter 4\n",
      "afftentetie 1\n",
      "afftenlectit 2\n",
      "affterre 1\n",
      "afftenen 9\n",
      "betractis 3\n",
      "afftenlectie 23\n",
      "betracte 47\n",
      "afftenleetie 1\n",
      "betracter 48\n"
     ]
    }
   ],
   "source": [
    "for word in corpus_clean.split():\n",
    "    if word.startswith('affte'):\n",
    "        lst.append(word)\n",
    "for word in list(set(lst)):\n",
    "    print(word, corpus_nltk.count(word))"
   ]
  },
  {
   "cell_type": "markdown",
   "id": "34a1ca4a",
   "metadata": {},
   "source": [
    "## Collocations"
   ]
  },
  {
   "cell_type": "code",
   "execution_count": 20,
   "id": "7e92687e",
   "metadata": {},
   "outputs": [
    {
     "data": {
      "text/plain": [
       "[('hellig', 'aand'),\n",
       " ('jesu', 'christi'),\n",
       " ('jesum', 'christum'),\n",
       " ('guds', 'børn'),\n",
       " ('jesus', 'christus'),\n",
       " ('høyre', 'haand'),\n",
       " ('evige', 'liff'),\n",
       " ('guds', 'aand'),\n",
       " ('alle', 'ting'),\n",
       " ('guds', 'barn'),\n",
       " ('hellig', 'aands'),\n",
       " ('herre', 'jesu'),\n",
       " ('jesu', 'christo'),\n",
       " ('kort', 'forklaring'),\n",
       " ('himmelske', 'fader'),\n",
       " ('guds', 'ord'),\n",
       " ('ævige', 'liff'),\n",
       " ('herris', 'jesu'),\n",
       " ('menniskens', 'søn'),\n",
       " ('guds', 'ords')]"
      ]
     },
     "execution_count": 20,
     "metadata": {},
     "output_type": "execute_result"
    }
   ],
   "source": [
    "bcf = BigramCollocationFinder.from_words(corpus_clean.split(),window_size=2)\n",
    "bcf.apply_word_filter(lambda w: len(w) < 3 or w in stopwords)\n",
    "bcf.apply_freq_filter(5)\n",
    "bcf.nbest(BigramAssocMeasures.likelihood_ratio,20)"
   ]
  },
  {
   "cell_type": "code",
   "execution_count": 21,
   "id": "252e296d",
   "metadata": {},
   "outputs": [
    {
     "data": {
      "text/plain": [
       "[('hellig', 'aand'),\n",
       " ('jesu', 'christi'),\n",
       " ('jesum', 'christum'),\n",
       " ('guds', 'børn'),\n",
       " ('jesus', 'christus'),\n",
       " ('høyre', 'haand'),\n",
       " ('evige', 'liff'),\n",
       " ('alle', 'ting'),\n",
       " ('guds', 'aand'),\n",
       " ('hellig', 'aands'),\n",
       " ('himmelske', 'fader'),\n",
       " ('guds', 'barn'),\n",
       " ('kort', 'forklaring'),\n",
       " ('guds', 'ord'),\n",
       " ('jesu', 'christo'),\n",
       " ('ævige', 'liff'),\n",
       " ('herre', 'jesu'),\n",
       " ('herris', 'jesu'),\n",
       " ('menniskens', 'søn'),\n",
       " ('giffuer', 'act')]"
      ]
     },
     "execution_count": 21,
     "metadata": {},
     "output_type": "execute_result"
    }
   ],
   "source": [
    "bcf = BigramCollocationFinder.from_words(corpus_clean.split(),window_size=3)\n",
    "bcf.apply_word_filter(lambda w: len(w) < 3 or w in stopwords)\n",
    "bcf.apply_freq_filter(5)\n",
    "bcf.nbest(BigramAssocMeasures.likelihood_ratio,20)"
   ]
  },
  {
   "cell_type": "code",
   "execution_count": 22,
   "id": "5ec6d5c0",
   "metadata": {},
   "outputs": [
    {
     "data": {
      "text/plain": [
       "[('hellig', 'aand'),\n",
       " ('jesu', 'christi'),\n",
       " ('jesum', 'christum'),\n",
       " ('david', 'psalmen'),\n",
       " ('høyre', 'haand'),\n",
       " ('evighed', 'amen'),\n",
       " ('regnerer', 'evighed'),\n",
       " ('evige', 'liff'),\n",
       " ('himmelske', 'fader'),\n",
       " ('gudelig', 'kort'),\n",
       " ('kort', 'forklaring'),\n",
       " ('amen', 'cap'),\n",
       " ('evighed', 'epistelen'),\n",
       " ('skriffuer', 'cap'),\n",
       " ('sand', 'evighed'),\n",
       " ('gudelig', 'forklaring'),\n",
       " ('evighed', 'søndag'),\n",
       " ('hellig', 'aands'),\n",
       " ('amen', 'skriffuer'),\n",
       " ('alle', 'ting')]"
      ]
     },
     "execution_count": 22,
     "metadata": {},
     "output_type": "execute_result"
    }
   ],
   "source": [
    "bcf = BigramCollocationFinder.from_words(corpus_clean.split(),window_size=20)\n",
    "bcf.apply_word_filter(lambda w: len(w) < 3 or w in stopwords)\n",
    "bcf.apply_freq_filter(5)\n",
    "bcf.nbest(BigramAssocMeasures.likelihood_ratio,20)"
   ]
  }
 ],
 "metadata": {
  "kernelspec": {
   "display_name": "Python 3 (ipykernel)",
   "language": "python",
   "name": "python3"
  },
  "language_info": {
   "codemirror_mode": {
    "name": "ipython",
    "version": 3
   },
   "file_extension": ".py",
   "mimetype": "text/x-python",
   "name": "python",
   "nbconvert_exporter": "python",
   "pygments_lexer": "ipython3",
   "version": "3.10.9"
  }
 },
 "nbformat": 4,
 "nbformat_minor": 5
}
